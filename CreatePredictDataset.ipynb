{
 "cells": [
  {
   "cell_type": "code",
   "execution_count": 1,
   "metadata": {},
   "outputs": [
    {
     "name": "stdout",
     "output_type": "stream",
     "text": [
      "Populating the interactive namespace from numpy and matplotlib\n"
     ]
    }
   ],
   "source": [
    "%pylab inline\n",
    "%config IPCompleter.greedy=True\n",
    "import os  #  file system operations\n",
    "import pandas as pd # pandas... the best time series library out there\n",
    "import datetime as dt # date and time functions\n",
    "import time\n",
    "import sqlite3"
   ]
  },
  {
   "cell_type": "markdown",
   "metadata": {},
   "source": [
    "Список бумаг с которыми будем работать"
   ]
  },
  {
   "cell_type": "code",
   "execution_count": 2,
   "metadata": {},
   "outputs": [],
   "source": [
    "SP_SYMBOLS =['AAPL','MSFT','AMZN','FB','JPM','JNJ','GOOG','GOOGL','XOM','BAC','WFC','INTC','T','V','CSCO','CVX','UNH','PFE','HD','PG','VZ','C','ABBV','BA','KO','CMCSA','MA','PM','PEP','ORCL','DIS','MRK','NVDA','MMM','AMGN','IBM','NFLX','WMT','MO','MCD','GE','HON','MDT','ABT','TXN','BMY','ADBE','UNP','GILD','BKNG','AVGO','ACN','UTX','GS','SLB','CAT','PYPL','QCOM','CRM','NKE','TMO','USB','SBUX','LMT','COST','MS','PNC','LLY','UPS','TWX','NEE','CELG','LOW','BLK','CVS','AXP','MU','CHTR','SCHW','MDLZ','CB','COP','AMAT','DHR','AMT','CL','GD','FDX','RTN','WBA','NOC','BIIB','BDX','ANTM','AET','EOG','BK','ATVI','CME','AGN','MON','SYK','DUK','ITW','ADP','TJX','DE','CSX','SPGI','AIG','MET','CTSH','OXY','ISRG','SPG','GM','COF','PRU','D','PX','EMR','CCI','ICE','VRTX','SO','ESRX','MMC','MAR','INTU','F','EBAY','ZTS','NSC','VLO','CI','PSX','HAL','KHC','KMB','STT','FOXA','HPQ','STZ','EA','HUM','BSX','TGT','TRV','DAL','APD','TEL','ILMN','AON','LRCX','JCI','EXC','ETN','ECL','AFL','LYB','WM','PGR','ADI','ALL','STI','SHW','BAX','MPC','PLD','FIS','MCK','LUV','EL','APC','AEP','EQIX','KMI','FISV','WDC','HPE','DXC','ADSK','PPG','ROST','EW','GIS','PSA','HCA','SYY','MTB','PXD','ROP','APH','TROW','DFS','MCO','YUM','RHT','SRE','CCL','SYF','ALXN','WY','REGN','GLW','CMI','ADM','FCX','APTV','MNST','AAL','VFC','FITB','PH','PEG','ROK','FTV','SWK','AMP','OKE','ZBH','PCAR','ED','KEY','DG','NTRS','WMB','PCG','MCHP','RF','A','CAH','MYL','IP','CFG','TSN','IR','DLTR','CXO','AVB','XEL','COL','WLTW','EQR','DLR','RCL','KR','NUE','ORLY','PAYX','SWKS','SBAC','NEM','EIX','WELL','CERN','HIG','ALGN','BXP','WEC','XLNX','CBS','KLAC','PPL','UAL','GPN','MGM','BBY','AME','DTE','VTR','IDXX','AZO','INFO','ES','MSI','LH','NTAP','CNC','HBAN','CMA','STX','K','OMC','DVN','WRK','CTL','LNC','SYMC','WAT','CLX','ABC','PFG','INCY','HLT','FAST','LEN','VRSK','FOX','EMN','VMC','MTD','RSG','ETFC','CAG','TXT','MHK','URI','DOV','ESS','IQV','DHI','CTAS','TSS','SJM','TPR','XL','WYNN','TAP','EFX','NBL','FE','BLL','O','DGX','GWW','AWK','TDG','HSY','ANSS','NOV','L','XYL','IVZ','RMD','BF.B','HST','NWL','ETR','CTXS','CBOE','GPC','MAS','EXPE','APA','XRAY','MLM','FTI','SNPS','MKC','AEE','CHD','BEN','EQT','CHRW','HES','AJG','AKAM','RJF','MRO','COG','CMS','ARE','ULTA','WHR','LKQ','HII','DRI','VAR','VNO','KMX','KSU','EXPD','PNR','CNP','VIAB','PVH','UNM','PRGO','COO','IT','ALB','CA','KSS','PKG','ZION','CINF','NCLH','ADS','CDNS','NLSN','IFF','AMG','FMC','UHS','DVA','HOLX','EXR','HSIC','VRSN','RE','JBHT','QRVO','ARNC','LB','TIF','AVY','HAS','BWA','MAA','SLG','JNPR','NDAQ','IPGP','AOS','MOS','FFIV','WU','FBHS','AMD','UDR','CF','IPG','DISH','NRG','M','DRE','COTY','HRL','LNT','IRM','SNA','XEC','REG','AAP','FRT','CPB','ALK','PNW','PKI','TSCO','PHM','CMG','ALLE','SEE','FLR','HOG','NI','RHI','HBI','GPS','JEC','GT','DISCK','GRMN','FLIR','AES','PBCT','HP','XRX','CSRA','AYI','MAC','LEG','AIV','NWSA','RL','KIM','JWN','FLS','HRB','FL','SRCL','PWR','BHF','EVHC','AIZ','MAT','TRIP','NFX','DISCA','NAVI','RRC','UAA','SIG','CHK','UAA','PDCO','NWS']"
   ]
  },
  {
   "cell_type": "markdown",
   "metadata": {},
   "source": [
    "Период для создания обучающей выборки (должен быть как минимум на год меньше последнего года в базе)"
   ]
  },
  {
   "cell_type": "code",
   "execution_count": 3,
   "metadata": {},
   "outputs": [],
   "source": [
    "year = 2020"
   ]
  },
  {
   "cell_type": "markdown",
   "metadata": {},
   "source": [
    "Имя базы"
   ]
  },
  {
   "cell_type": "code",
   "execution_count": 4,
   "metadata": {},
   "outputs": [],
   "source": [
    "base = 'invest2.db'"
   ]
  },
  {
   "cell_type": "markdown",
   "metadata": {},
   "source": [
    "Функция получения исторических цен за год по бумаге"
   ]
  },
  {
   "cell_type": "code",
   "execution_count": 5,
   "metadata": {},
   "outputs": [],
   "source": [
    "def get_price_history(base,symbol,year):\n",
    "    conn = sqlite3.connect(base)\n",
    "    sql = 'SELECT DATE,OPEN,HIGH,LOW,CLOSE,VOLUME from price_history where (SYMBOL=\"'+symbol+'\") and (strftime(\"%Y\", DATE) = \"'+str(year)+'\") order by DATE'\n",
    "    df = pd.read_sql(sql,conn)\n",
    "    if (len(df) == 0):\n",
    "        return None\n",
    "    first_price = df['OPEN'][0]\n",
    "    last_price = df['CLOSE'][len(df)-1]\n",
    "    max_price = df['HIGH'].max()\n",
    "    max_volume = df['VOLUME'].max()\n",
    "    mean_price = df['CLOSE'].mean()\n",
    "    mean_volume = df['VOLUME'].mean()\n",
    "    median_price = df['CLOSE'].median()\n",
    "    median_volume = df['VOLUME'].median()\n",
    "    min_price = df['LOW'].min()\n",
    "    min_volume = df['VOLUME'].min()\n",
    "    std_price = df['OPEN'].std()\n",
    "    std_volume = df['VOLUME'].std()\n",
    "    y = 0\n",
    "    return first_price,last_price,max_price,max_volume,mean_price,mean_volume,median_price,median_volume,min_price,min_volume,std_price,std_volume,y"
   ]
  },
  {
   "cell_type": "code",
   "execution_count": 6,
   "metadata": {},
   "outputs": [],
   "source": [
    "def get_sector_industry(base,symbol):\n",
    "    conn = sqlite3.connect(base)\n",
    "    sql='select SECTOR,INDUSTRY from sectors where SYMBOL=\"'+symbol+'\"'\n",
    "    cursor = conn.cursor()\n",
    "    cursor.execute(sql)\n",
    "    results = cursor.fetchone()\n",
    "    conn.close()\n",
    "    if results:\n",
    "        sector = results[0]\n",
    "        industry = results[1]\n",
    "        return sector,industry\n",
    "    else:\n",
    "        return None"
   ]
  },
  {
   "cell_type": "code",
   "execution_count": 7,
   "metadata": {},
   "outputs": [],
   "source": [
    "def get_div(base,symbol,year):\n",
    "    dividends=0\n",
    "    conn = sqlite3.connect(base)\n",
    "    sql='select sum(DIVIDENDS) from dividends_history where SYMBOl=\"'+symbol+'\" and (strftime(\"%Y\", DATE) = \"'+str(year)+'\")'\n",
    "    cursor = conn.cursor()\n",
    "    cursor.execute(sql)\n",
    "    results = cursor.fetchone()\n",
    "    conn.close()\n",
    "    if results:\n",
    "        dividends=results[0]\n",
    "    if dividends:\n",
    "        return dividends\n",
    "    else:\n",
    "        return 0"
   ]
  },
  {
   "cell_type": "code",
   "execution_count": 8,
   "metadata": {},
   "outputs": [],
   "source": [
    "def get_frs(base,year):\n",
    "    conn = sqlite3.connect(base)\n",
    "    sql='select RATE from FRS where (strftime(\"%Y\", DATE) = \"'+str(year)+'\")'\n",
    "    frs_df = pd.read_sql(sql,conn)\n",
    "    frs_min = frs_df['RATE'].min()\n",
    "    frs_max = frs_df['RATE'].max()\n",
    "    frs_mean = frs_df['RATE'].mean()\n",
    "    return frs_min,frs_max,frs_mean"
   ]
  },
  {
   "cell_type": "code",
   "execution_count": 9,
   "metadata": {},
   "outputs": [],
   "source": [
    "def get_oil_gold(base,year):\n",
    "    conn = sqlite3.connect(base)\n",
    "    sql='select OPEN,HIGH,LOW,CLOSE from comodity_history where (SYMBOL=\"CL=F\") and (strftime(\"%Y\", DATE) = \"'+str(year)+'\")'\n",
    "    df =  pd.read_sql(sql,conn)\n",
    "    oil_min = df['LOW'].min()\n",
    "    oil_max = df['HIGH'].max()\n",
    "    oil_mean = df['OPEN'].mean()\n",
    "    sql='select OPEN,HIGH,LOW,CLOSE from comodity_history where (SYMBOL=\"GC=F\") and (strftime(\"%Y\", DATE) = \"'+str(year)+'\")'\n",
    "    df =  pd.read_sql(sql,conn)\n",
    "    gold_min = df['LOW'].min()\n",
    "    gold_max = df['HIGH'].max()\n",
    "    gold_mean = df['OPEN'].mean()\n",
    "    return oil_min,oil_max,oil_mean,gold_min,gold_max,gold_mean"
   ]
  },
  {
   "cell_type": "markdown",
   "metadata": {},
   "source": [
    "# Основной цикл"
   ]
  },
  {
   "cell_type": "code",
   "execution_count": 10,
   "metadata": {},
   "outputs": [
    {
     "name": "stdout",
     "output_type": "stream",
     "text": [
      "CPU times: user 7.81 s, sys: 1.2 s, total: 9.01 s\n",
      "Wall time: 9.01 s\n"
     ]
    }
   ],
   "source": [
    "%%time\n",
    "row_list = []\n",
    "for symbol in SP_SYMBOLS:\n",
    "    sec_in = get_sector_industry(base,symbol)\n",
    "    if sec_in:\n",
    "        sector,industry = sec_in\n",
    "    else:\n",
    "        sector = 'no'\n",
    "        industry = 'no'\n",
    "   \n",
    "    frs_min,frs_max,frs_mean = get_frs(base,year)\n",
    "    values = get_price_history(base,symbol,year)\n",
    "    prev_values = get_price_history(base,symbol,year-1)\n",
    "    if (values is not None) and (prev_values is not None):\n",
    "        first_price,last_price,max_price,max_volume,mean_price,mean_volume,median_price,median_volume,min_price,min_volume,std_price,std_volume,y = values\n",
    "        prev_first_price,prev_last_price,prev_max_price,prev_max_volume,prev_mean_price,prev_mean_volume,prev_median_price,prev_median_volume,prev_min_price,prev_min_volume,prev_std_price,prev_std_volume,prev_y = prev_values\n",
    "        div = get_div(base,symbol,year)\n",
    "        prev_div = get_div(base,symbol,year-1)\n",
    "        dict1 = {'symbol_year':symbol+'_'+str(year),\n",
    "                 'sector':sector,\n",
    "                 'industry':industry,\n",
    "                 'last_price':last_price,\n",
    "                 'max_price':max_price,\n",
    "                 'max_volume':max_volume,\n",
    "                 'mean_price':mean_price,\n",
    "                 'mean_volume':mean_volume,\n",
    "                 'median_price':median_price,\n",
    "                 'median_volume':median_volume,\n",
    "                 'min_price':min_price,\n",
    "                 'min_volume':min_volume,\n",
    "                 'std_price':std_price,\n",
    "                 'std_volume':std_volume,\n",
    "                 'dividends':div,\n",
    "                 'prev_dividends':prev_div,\n",
    "                 'prev_last_price':prev_last_price,\n",
    "                 'prev_max_price':prev_max_price,\n",
    "                 'prev_max_volume':prev_max_volume,\n",
    "                 'prev_mean_price':prev_mean_price,\n",
    "                 'prev_mean_volume':prev_mean_volume,\n",
    "                 'prev_median_price':prev_median_price,\n",
    "                 'prev_median_volume':prev_median_volume,\n",
    "                 'prev_min_price':prev_min_price,\n",
    "                 'prev_min_volume':prev_min_volume,\n",
    "                 'prev_std_price':prev_std_price,\n",
    "                 'prev_std_volume':prev_std_volume,\n",
    "                 'frs_min':frs_min,\n",
    "                 'frs_max':frs_max,\n",
    "                 'frs_mean':frs_mean,\n",
    "                 'year':year,\n",
    "                 'y':y}\n",
    "        row_list.append(dict1)\n",
    "DATA = pd.DataFrame(row_list)"
   ]
  },
  {
   "cell_type": "code",
   "execution_count": 11,
   "metadata": {},
   "outputs": [
    {
     "data": {
      "text/plain": [
       "458"
      ]
     },
     "execution_count": 11,
     "metadata": {},
     "output_type": "execute_result"
    }
   ],
   "source": [
    "len(DATA)"
   ]
  },
  {
   "cell_type": "code",
   "execution_count": 12,
   "metadata": {},
   "outputs": [],
   "source": [
    "DATA = DATA.dropna()"
   ]
  },
  {
   "cell_type": "code",
   "execution_count": 13,
   "metadata": {},
   "outputs": [],
   "source": [
    "DATA = DATA.query('min_price > 1')"
   ]
  },
  {
   "cell_type": "code",
   "execution_count": 14,
   "metadata": {},
   "outputs": [],
   "source": [
    "DATA['frs_int'] = round(DATA['frs_mean'])"
   ]
  },
  {
   "cell_type": "code",
   "execution_count": 15,
   "metadata": {},
   "outputs": [],
   "source": [
    "DATA['frs_int']= DATA['frs_int'].astype(int)"
   ]
  },
  {
   "cell_type": "code",
   "execution_count": 16,
   "metadata": {},
   "outputs": [
    {
     "data": {
      "text/plain": [
       "457"
      ]
     },
     "execution_count": 16,
     "metadata": {},
     "output_type": "execute_result"
    }
   ],
   "source": [
    "len(DATA)"
   ]
  },
  {
   "cell_type": "markdown",
   "metadata": {},
   "source": [
    "Цикл добавления комодитиз"
   ]
  },
  {
   "cell_type": "code",
   "execution_count": 17,
   "metadata": {},
   "outputs": [],
   "source": [
    "first_year=year\n",
    "last_year=year\n",
    "row_list = []\n",
    "conn = sqlite3.connect(base)\n",
    "sql='select distinct symbol from comodity_history'\n",
    "cursor = conn.cursor()\n",
    "cursor.execute(sql)\n",
    "comoditilist = cursor.fetchall()\n",
    "for year in range(first_year,last_year+1):\n",
    "    dict={}\n",
    "    dict['year']=year\n",
    "    for comodity in comoditilist:\n",
    "        sql='select OPEN,HIGH,LOW,CLOSE from comodity_history where (strftime(\"%Y\", DATE) = \"'+str(year)+'\") and (SYMBOL=\"'+comodity[0]+'\")'\n",
    "        df=pd.read_sql(sql,conn)\n",
    "        dict[comodity[0]+'_mean']=df['OPEN'].mean()\n",
    "        dict[comodity[0]+'_max']=df['HIGH'].max()\n",
    "        dict[comodity[0]+'_min']=df['LOW'].min()\n",
    "    row_list.append(dict)\n",
    "DATA_COM = pd.DataFrame(row_list)\n",
    "conn.close()    "
   ]
  },
  {
   "cell_type": "code",
   "execution_count": 18,
   "metadata": {},
   "outputs": [],
   "source": [
    "DATA = DATA.merge(DATA_COM)"
   ]
  },
  {
   "cell_type": "code",
   "execution_count": 19,
   "metadata": {},
   "outputs": [],
   "source": [
    "DATA=DATA.drop('year',axis=1)"
   ]
  },
  {
   "cell_type": "code",
   "execution_count": 20,
   "metadata": {},
   "outputs": [
    {
     "data": {
      "text/plain": [
       "457"
      ]
     },
     "execution_count": 20,
     "metadata": {},
     "output_type": "execute_result"
    }
   ],
   "source": [
    "len(DATA)"
   ]
  },
  {
   "cell_type": "markdown",
   "metadata": {},
   "source": [
    "подключаем финансовые показатели"
   ]
  },
  {
   "cell_type": "code",
   "execution_count": 21,
   "metadata": {},
   "outputs": [],
   "source": [
    "conn = sqlite3.connect(base)\n",
    "DATA_F = pd.read_sql('SELECT date(DATE,\"-7 days\") as DATE,SYMBOL,KEY,VALUE from FINANCE',conn)"
   ]
  },
  {
   "cell_type": "code",
   "execution_count": 22,
   "metadata": {},
   "outputs": [],
   "source": [
    "DATA_F['year']=DATA_F['DATE'].str.split('-').str[0]"
   ]
  },
  {
   "cell_type": "code",
   "execution_count": 23,
   "metadata": {},
   "outputs": [],
   "source": [
    "DATA_F_PREV = DATA_F.copy(deep=True)"
   ]
  },
  {
   "cell_type": "code",
   "execution_count": 24,
   "metadata": {},
   "outputs": [],
   "source": [
    "DATA_F_PREV['year'] = DATA_F_PREV['year'].astype(int)+1"
   ]
  },
  {
   "cell_type": "code",
   "execution_count": 25,
   "metadata": {},
   "outputs": [],
   "source": [
    "DATA_F_PREV['year'] = DATA_F_PREV['year'].astype(str)"
   ]
  },
  {
   "cell_type": "code",
   "execution_count": 26,
   "metadata": {},
   "outputs": [],
   "source": [
    "DATA_F_PREV['KEY'] = 'prev_'+DATA_F_PREV['KEY']"
   ]
  },
  {
   "cell_type": "code",
   "execution_count": 27,
   "metadata": {},
   "outputs": [],
   "source": [
    "DATA_F = pd.concat([DATA_F_PREV,DATA_F], axis=0) "
   ]
  },
  {
   "cell_type": "code",
   "execution_count": 28,
   "metadata": {},
   "outputs": [],
   "source": [
    "DATA_F['symbol_year']=DATA_F['SYMBOL']+'_'+DATA_F['year']"
   ]
  },
  {
   "cell_type": "code",
   "execution_count": 29,
   "metadata": {},
   "outputs": [],
   "source": [
    "DATA_F = DATA_F.drop('DATE',axis=1)\n",
    "DATA_F = DATA_F.drop('SYMBOL',axis=1)"
   ]
  },
  {
   "cell_type": "code",
   "execution_count": 30,
   "metadata": {},
   "outputs": [],
   "source": [
    "DATA_F = DATA_F.drop('year',axis=1)"
   ]
  },
  {
   "cell_type": "code",
   "execution_count": 31,
   "metadata": {},
   "outputs": [],
   "source": [
    "PIVOT = pd.pivot_table(DATA_F,index='symbol_year',columns='KEY',aggfunc='mean')"
   ]
  },
  {
   "cell_type": "code",
   "execution_count": 32,
   "metadata": {},
   "outputs": [],
   "source": [
    "PIVOT = PIVOT.reset_index().T.reset_index().drop('level_0',axis=1).T"
   ]
  },
  {
   "cell_type": "code",
   "execution_count": 33,
   "metadata": {},
   "outputs": [],
   "source": [
    "PIVOT = PIVOT.T.set_index(PIVOT.T.columns[0]).T"
   ]
  },
  {
   "cell_type": "code",
   "execution_count": 34,
   "metadata": {},
   "outputs": [],
   "source": [
    "PIVOT = PIVOT.rename(columns={PIVOT.columns[0]: 'symbol_year'})"
   ]
  },
  {
   "cell_type": "code",
   "execution_count": 35,
   "metadata": {},
   "outputs": [],
   "source": [
    "DATA=DATA.merge(PIVOT)"
   ]
  },
  {
   "cell_type": "code",
   "execution_count": 36,
   "metadata": {},
   "outputs": [
    {
     "data": {
      "text/plain": [
       "456"
      ]
     },
     "execution_count": 36,
     "metadata": {},
     "output_type": "execute_result"
    }
   ],
   "source": [
    "len(DATA)"
   ]
  },
  {
   "cell_type": "code",
   "execution_count": 37,
   "metadata": {},
   "outputs": [],
   "source": [
    "DATA = DATA.dropna()"
   ]
  },
  {
   "cell_type": "code",
   "execution_count": 38,
   "metadata": {},
   "outputs": [
    {
     "data": {
      "text/plain": [
       "432"
      ]
     },
     "execution_count": 38,
     "metadata": {},
     "output_type": "execute_result"
    }
   ],
   "source": [
    "len(DATA)"
   ]
  },
  {
   "cell_type": "code",
   "execution_count": 39,
   "metadata": {},
   "outputs": [],
   "source": [
    "DATA.to_csv('y_test.csv',index=None)"
   ]
  },
  {
   "cell_type": "code",
   "execution_count": 40,
   "metadata": {},
   "outputs": [
    {
     "data": {
      "text/html": [
       "<div>\n",
       "<style scoped>\n",
       "    .dataframe tbody tr th:only-of-type {\n",
       "        vertical-align: middle;\n",
       "    }\n",
       "\n",
       "    .dataframe tbody tr th {\n",
       "        vertical-align: top;\n",
       "    }\n",
       "\n",
       "    .dataframe thead th {\n",
       "        text-align: right;\n",
       "    }\n",
       "</style>\n",
       "<table border=\"1\" class=\"dataframe\">\n",
       "  <thead>\n",
       "    <tr style=\"text-align: right;\">\n",
       "      <th></th>\n",
       "      <th>symbol_year</th>\n",
       "      <th>sector</th>\n",
       "      <th>industry</th>\n",
       "      <th>last_price</th>\n",
       "      <th>max_price</th>\n",
       "      <th>max_volume</th>\n",
       "      <th>mean_price</th>\n",
       "      <th>mean_volume</th>\n",
       "      <th>median_price</th>\n",
       "      <th>median_volume</th>\n",
       "      <th>...</th>\n",
       "      <th>totalDebt</th>\n",
       "      <th>totalInvestments</th>\n",
       "      <th>totalLiabilities</th>\n",
       "      <th>totalLiabilitiesAndStockholdersEquity</th>\n",
       "      <th>totalNonCurrentAssets</th>\n",
       "      <th>totalNonCurrentLiabilities</th>\n",
       "      <th>totalOtherIncomeExpensesNet</th>\n",
       "      <th>totalStockholdersEquity</th>\n",
       "      <th>weightedAverageShsOut</th>\n",
       "      <th>weightedAverageShsOutDil</th>\n",
       "    </tr>\n",
       "  </thead>\n",
       "  <tbody>\n",
       "    <tr>\n",
       "      <th>0</th>\n",
       "      <td>AAPL_2020</td>\n",
       "      <td>Technology</td>\n",
       "      <td>Consumer Electronics</td>\n",
       "      <td>132.690002</td>\n",
       "      <td>138.789993</td>\n",
       "      <td>426884800.0</td>\n",
       "      <td>95.347075</td>\n",
       "      <td>1.575816e+08</td>\n",
       "      <td>91.632500</td>\n",
       "      <td>138023400.0</td>\n",
       "      <td>...</td>\n",
       "      <td>1.12436e+11</td>\n",
       "      <td>1.05854e+11</td>\n",
       "      <td>2.58549e+11</td>\n",
       "      <td>3.23888e+11</td>\n",
       "      <td>1.80175e+11</td>\n",
       "      <td>1.53157e+11</td>\n",
       "      <td>-8.7e+07</td>\n",
       "      <td>6.5339e+10</td>\n",
       "      <td>1.73521e+10</td>\n",
       "      <td>1.75282e+10</td>\n",
       "    </tr>\n",
       "    <tr>\n",
       "      <th>1</th>\n",
       "      <td>MSFT_2020</td>\n",
       "      <td>Technology</td>\n",
       "      <td>Software—Infrastructure</td>\n",
       "      <td>222.419998</td>\n",
       "      <td>232.860001</td>\n",
       "      <td>97073600.0</td>\n",
       "      <td>193.026126</td>\n",
       "      <td>3.766292e+07</td>\n",
       "      <td>201.910004</td>\n",
       "      <td>32790800.0</td>\n",
       "      <td>...</td>\n",
       "      <td>6.3327e+10</td>\n",
       "      <td>1.25916e+11</td>\n",
       "      <td>1.83007e+11</td>\n",
       "      <td>3.01311e+11</td>\n",
       "      <td>1.19396e+11</td>\n",
       "      <td>1.10697e+11</td>\n",
       "      <td>2.668e+09</td>\n",
       "      <td>1.18304e+11</td>\n",
       "      <td>7.61e+09</td>\n",
       "      <td>7.683e+09</td>\n",
       "    </tr>\n",
       "    <tr>\n",
       "      <th>2</th>\n",
       "      <td>AMZN_2020</td>\n",
       "      <td>Consumer Cyclical</td>\n",
       "      <td>Internet Retail</td>\n",
       "      <td>3256.929932</td>\n",
       "      <td>3552.250000</td>\n",
       "      <td>15567300.0</td>\n",
       "      <td>2680.855096</td>\n",
       "      <td>4.931702e+06</td>\n",
       "      <td>2890.300049</td>\n",
       "      <td>4526600.0</td>\n",
       "      <td>...</td>\n",
       "      <td>3.1875e+10</td>\n",
       "      <td>8.4548e+10</td>\n",
       "      <td>2.27791e+11</td>\n",
       "      <td>3.21195e+11</td>\n",
       "      <td>1.88462e+11</td>\n",
       "      <td>1.01406e+11</td>\n",
       "      <td>2.371e+09</td>\n",
       "      <td>9.3404e+10</td>\n",
       "      <td>5e+08</td>\n",
       "      <td>5.1e+08</td>\n",
       "    </tr>\n",
       "    <tr>\n",
       "      <th>3</th>\n",
       "      <td>FB_2020</td>\n",
       "      <td>Communication Services</td>\n",
       "      <td>Internet Content &amp; Information</td>\n",
       "      <td>273.160004</td>\n",
       "      <td>304.670013</td>\n",
       "      <td>76343900.0</td>\n",
       "      <td>234.550870</td>\n",
       "      <td>2.244645e+07</td>\n",
       "      <td>235.940002</td>\n",
       "      <td>20142500.0</td>\n",
       "      <td>...</td>\n",
       "      <td>1.0654e+10</td>\n",
       "      <td>8.8756e+10</td>\n",
       "      <td>3.1026e+10</td>\n",
       "      <td>1.59316e+11</td>\n",
       "      <td>8.3646e+10</td>\n",
       "      <td>9.631e+09</td>\n",
       "      <td>5.09e+08</td>\n",
       "      <td>1.2829e+11</td>\n",
       "      <td>2.85e+09</td>\n",
       "      <td>2.888e+09</td>\n",
       "    </tr>\n",
       "    <tr>\n",
       "      <th>4</th>\n",
       "      <td>JPM_2020</td>\n",
       "      <td>Financial Services</td>\n",
       "      <td>Banks—Diversified</td>\n",
       "      <td>127.070000</td>\n",
       "      <td>141.100006</td>\n",
       "      <td>49725200.0</td>\n",
       "      <td>106.515534</td>\n",
       "      <td>1.923107e+07</td>\n",
       "      <td>100.059998</td>\n",
       "      <td>16358500.0</td>\n",
       "      <td>...</td>\n",
       "      <td>3.26893e+11</td>\n",
       "      <td>1.13881e+12</td>\n",
       "      <td>3.10672e+12</td>\n",
       "      <td>3.38607e+12</td>\n",
       "      <td>8.0537e+10</td>\n",
       "      <td>0</td>\n",
       "      <td>0</td>\n",
       "      <td>2.79354e+11</td>\n",
       "      <td>3.2215e+09</td>\n",
       "      <td>3.2215e+09</td>\n",
       "    </tr>\n",
       "    <tr>\n",
       "      <th>...</th>\n",
       "      <td>...</td>\n",
       "      <td>...</td>\n",
       "      <td>...</td>\n",
       "      <td>...</td>\n",
       "      <td>...</td>\n",
       "      <td>...</td>\n",
       "      <td>...</td>\n",
       "      <td>...</td>\n",
       "      <td>...</td>\n",
       "      <td>...</td>\n",
       "      <td>...</td>\n",
       "      <td>...</td>\n",
       "      <td>...</td>\n",
       "      <td>...</td>\n",
       "      <td>...</td>\n",
       "      <td>...</td>\n",
       "      <td>...</td>\n",
       "      <td>...</td>\n",
       "      <td>...</td>\n",
       "      <td>...</td>\n",
       "      <td>...</td>\n",
       "    </tr>\n",
       "    <tr>\n",
       "      <th>451</th>\n",
       "      <td>UAA_2020</td>\n",
       "      <td>Consumer Cyclical</td>\n",
       "      <td>Apparel Manufacturing</td>\n",
       "      <td>17.170000</td>\n",
       "      <td>21.959999</td>\n",
       "      <td>44669800.0</td>\n",
       "      <td>12.830909</td>\n",
       "      <td>7.445738e+06</td>\n",
       "      <td>11.160000</td>\n",
       "      <td>6573200.0</td>\n",
       "      <td>...</td>\n",
       "      <td>1.84297e+09</td>\n",
       "      <td>0</td>\n",
       "      <td>3.35464e+09</td>\n",
       "      <td>5.03063e+09</td>\n",
       "      <td>1.17419e+09</td>\n",
       "      <td>1.10194e+09</td>\n",
       "      <td>1.68153e+08</td>\n",
       "      <td>1.67599e+09</td>\n",
       "      <td>2.22927e+08</td>\n",
       "      <td>2.22927e+08</td>\n",
       "    </tr>\n",
       "    <tr>\n",
       "      <th>452</th>\n",
       "      <td>UAA_2020</td>\n",
       "      <td>Consumer Cyclical</td>\n",
       "      <td>Apparel Manufacturing</td>\n",
       "      <td>17.170000</td>\n",
       "      <td>21.959999</td>\n",
       "      <td>44669800.0</td>\n",
       "      <td>12.830909</td>\n",
       "      <td>7.445738e+06</td>\n",
       "      <td>11.160000</td>\n",
       "      <td>6573200.0</td>\n",
       "      <td>...</td>\n",
       "      <td>1.84297e+09</td>\n",
       "      <td>0</td>\n",
       "      <td>3.35464e+09</td>\n",
       "      <td>5.03063e+09</td>\n",
       "      <td>1.17419e+09</td>\n",
       "      <td>1.10194e+09</td>\n",
       "      <td>1.68153e+08</td>\n",
       "      <td>1.67599e+09</td>\n",
       "      <td>2.22927e+08</td>\n",
       "      <td>2.22927e+08</td>\n",
       "    </tr>\n",
       "    <tr>\n",
       "      <th>453</th>\n",
       "      <td>SIG_2020</td>\n",
       "      <td>Consumer Cyclical</td>\n",
       "      <td>Luxury Goods</td>\n",
       "      <td>27.270000</td>\n",
       "      <td>32.220001</td>\n",
       "      <td>25334100.0</td>\n",
       "      <td>17.624704</td>\n",
       "      <td>2.376670e+06</td>\n",
       "      <td>17.860001</td>\n",
       "      <td>1844800.0</td>\n",
       "      <td>...</td>\n",
       "      <td>6.115e+08</td>\n",
       "      <td>2.04e+07</td>\n",
       "      <td>4.4595e+09</td>\n",
       "      <td>6.2991e+09</td>\n",
       "      <td>3.1443e+09</td>\n",
       "      <td>2.8069e+09</td>\n",
       "      <td>7e+06</td>\n",
       "      <td>1.8396e+09</td>\n",
       "      <td>5.2e+07</td>\n",
       "      <td>5.2e+07</td>\n",
       "    </tr>\n",
       "    <tr>\n",
       "      <th>454</th>\n",
       "      <td>PDCO_2020</td>\n",
       "      <td>Healthcare</td>\n",
       "      <td>Medical Distribution</td>\n",
       "      <td>29.629999</td>\n",
       "      <td>33.470001</td>\n",
       "      <td>4727200.0</td>\n",
       "      <td>23.258933</td>\n",
       "      <td>1.154981e+06</td>\n",
       "      <td>23.570000</td>\n",
       "      <td>985600.0</td>\n",
       "      <td>...</td>\n",
       "      <td>6.3762e+08</td>\n",
       "      <td>2.14915e+08</td>\n",
       "      <td>1.88123e+09</td>\n",
       "      <td>2.71535e+09</td>\n",
       "      <td>1.17258e+09</td>\n",
       "      <td>8.06335e+08</td>\n",
       "      <td>4.2211e+07</td>\n",
       "      <td>8.34117e+08</td>\n",
       "      <td>9.4154e+07</td>\n",
       "      <td>9.4154e+07</td>\n",
       "    </tr>\n",
       "    <tr>\n",
       "      <th>455</th>\n",
       "      <td>NWS_2020</td>\n",
       "      <td>Communication Services</td>\n",
       "      <td>Broadcasting</td>\n",
       "      <td>17.770000</td>\n",
       "      <td>18.730000</td>\n",
       "      <td>3021400.0</td>\n",
       "      <td>13.452292</td>\n",
       "      <td>6.845518e+05</td>\n",
       "      <td>13.800000</td>\n",
       "      <td>519500.0</td>\n",
       "      <td>...</td>\n",
       "      <td>1.259e+09</td>\n",
       "      <td>0</td>\n",
       "      <td>5.872e+09</td>\n",
       "      <td>1.3454e+10</td>\n",
       "      <td>1.08e+10</td>\n",
       "      <td>3.19e+09</td>\n",
       "      <td>-1.868e+09</td>\n",
       "      <td>7.582e+09</td>\n",
       "      <td>5.879e+08</td>\n",
       "      <td>5.879e+08</td>\n",
       "    </tr>\n",
       "  </tbody>\n",
       "</table>\n",
       "<p>432 rows × 288 columns</p>\n",
       "</div>"
      ],
      "text/plain": [
       "    symbol_year                  sector                        industry  \\\n",
       "0     AAPL_2020              Technology            Consumer Electronics   \n",
       "1     MSFT_2020              Technology         Software—Infrastructure   \n",
       "2     AMZN_2020       Consumer Cyclical                 Internet Retail   \n",
       "3       FB_2020  Communication Services  Internet Content & Information   \n",
       "4      JPM_2020      Financial Services               Banks—Diversified   \n",
       "..          ...                     ...                             ...   \n",
       "451    UAA_2020       Consumer Cyclical           Apparel Manufacturing   \n",
       "452    UAA_2020       Consumer Cyclical           Apparel Manufacturing   \n",
       "453    SIG_2020       Consumer Cyclical                    Luxury Goods   \n",
       "454   PDCO_2020              Healthcare            Medical Distribution   \n",
       "455    NWS_2020  Communication Services                    Broadcasting   \n",
       "\n",
       "      last_price    max_price   max_volume   mean_price   mean_volume  \\\n",
       "0     132.690002   138.789993  426884800.0    95.347075  1.575816e+08   \n",
       "1     222.419998   232.860001   97073600.0   193.026126  3.766292e+07   \n",
       "2    3256.929932  3552.250000   15567300.0  2680.855096  4.931702e+06   \n",
       "3     273.160004   304.670013   76343900.0   234.550870  2.244645e+07   \n",
       "4     127.070000   141.100006   49725200.0   106.515534  1.923107e+07   \n",
       "..           ...          ...          ...          ...           ...   \n",
       "451    17.170000    21.959999   44669800.0    12.830909  7.445738e+06   \n",
       "452    17.170000    21.959999   44669800.0    12.830909  7.445738e+06   \n",
       "453    27.270000    32.220001   25334100.0    17.624704  2.376670e+06   \n",
       "454    29.629999    33.470001    4727200.0    23.258933  1.154981e+06   \n",
       "455    17.770000    18.730000    3021400.0    13.452292  6.845518e+05   \n",
       "\n",
       "     median_price  median_volume  ...    totalDebt  totalInvestments  \\\n",
       "0       91.632500    138023400.0  ...  1.12436e+11       1.05854e+11   \n",
       "1      201.910004     32790800.0  ...   6.3327e+10       1.25916e+11   \n",
       "2     2890.300049      4526600.0  ...   3.1875e+10        8.4548e+10   \n",
       "3      235.940002     20142500.0  ...   1.0654e+10        8.8756e+10   \n",
       "4      100.059998     16358500.0  ...  3.26893e+11       1.13881e+12   \n",
       "..            ...            ...  ...          ...               ...   \n",
       "451     11.160000      6573200.0  ...  1.84297e+09                 0   \n",
       "452     11.160000      6573200.0  ...  1.84297e+09                 0   \n",
       "453     17.860001      1844800.0  ...    6.115e+08          2.04e+07   \n",
       "454     23.570000       985600.0  ...   6.3762e+08       2.14915e+08   \n",
       "455     13.800000       519500.0  ...    1.259e+09                 0   \n",
       "\n",
       "     totalLiabilities  totalLiabilitiesAndStockholdersEquity  \\\n",
       "0         2.58549e+11                            3.23888e+11   \n",
       "1         1.83007e+11                            3.01311e+11   \n",
       "2         2.27791e+11                            3.21195e+11   \n",
       "3          3.1026e+10                            1.59316e+11   \n",
       "4         3.10672e+12                            3.38607e+12   \n",
       "..                ...                                    ...   \n",
       "451       3.35464e+09                            5.03063e+09   \n",
       "452       3.35464e+09                            5.03063e+09   \n",
       "453        4.4595e+09                             6.2991e+09   \n",
       "454       1.88123e+09                            2.71535e+09   \n",
       "455         5.872e+09                             1.3454e+10   \n",
       "\n",
       "     totalNonCurrentAssets  totalNonCurrentLiabilities  \\\n",
       "0              1.80175e+11                 1.53157e+11   \n",
       "1              1.19396e+11                 1.10697e+11   \n",
       "2              1.88462e+11                 1.01406e+11   \n",
       "3               8.3646e+10                   9.631e+09   \n",
       "4               8.0537e+10                           0   \n",
       "..                     ...                         ...   \n",
       "451            1.17419e+09                 1.10194e+09   \n",
       "452            1.17419e+09                 1.10194e+09   \n",
       "453             3.1443e+09                  2.8069e+09   \n",
       "454            1.17258e+09                 8.06335e+08   \n",
       "455               1.08e+10                    3.19e+09   \n",
       "\n",
       "     totalOtherIncomeExpensesNet  totalStockholdersEquity  \\\n",
       "0                       -8.7e+07               6.5339e+10   \n",
       "1                      2.668e+09              1.18304e+11   \n",
       "2                      2.371e+09               9.3404e+10   \n",
       "3                       5.09e+08               1.2829e+11   \n",
       "4                              0              2.79354e+11   \n",
       "..                           ...                      ...   \n",
       "451                  1.68153e+08              1.67599e+09   \n",
       "452                  1.68153e+08              1.67599e+09   \n",
       "453                        7e+06               1.8396e+09   \n",
       "454                   4.2211e+07              8.34117e+08   \n",
       "455                   -1.868e+09                7.582e+09   \n",
       "\n",
       "     weightedAverageShsOut  weightedAverageShsOutDil  \n",
       "0              1.73521e+10               1.75282e+10  \n",
       "1                 7.61e+09                 7.683e+09  \n",
       "2                    5e+08                   5.1e+08  \n",
       "3                 2.85e+09                 2.888e+09  \n",
       "4               3.2215e+09                3.2215e+09  \n",
       "..                     ...                       ...  \n",
       "451            2.22927e+08               2.22927e+08  \n",
       "452            2.22927e+08               2.22927e+08  \n",
       "453                5.2e+07                   5.2e+07  \n",
       "454             9.4154e+07                9.4154e+07  \n",
       "455              5.879e+08                 5.879e+08  \n",
       "\n",
       "[432 rows x 288 columns]"
      ]
     },
     "execution_count": 40,
     "metadata": {},
     "output_type": "execute_result"
    }
   ],
   "source": [
    "DATA"
   ]
  },
  {
   "cell_type": "code",
   "execution_count": null,
   "metadata": {},
   "outputs": [],
   "source": []
  }
 ],
 "metadata": {
  "kernelspec": {
   "display_name": "Python 3",
   "language": "python",
   "name": "python3"
  },
  "language_info": {
   "codemirror_mode": {
    "name": "ipython",
    "version": 3
   },
   "file_extension": ".py",
   "mimetype": "text/x-python",
   "name": "python",
   "nbconvert_exporter": "python",
   "pygments_lexer": "ipython3",
   "version": "3.6.9"
  }
 },
 "nbformat": 4,
 "nbformat_minor": 2
}
