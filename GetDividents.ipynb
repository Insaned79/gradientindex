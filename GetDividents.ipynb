{
 "cells": [
  {
   "cell_type": "code",
   "execution_count": 2,
   "metadata": {},
   "outputs": [
    {
     "name": "stdout",
     "output_type": "stream",
     "text": [
      "Populating the interactive namespace from numpy and matplotlib\n"
     ]
    },
    {
     "name": "stderr",
     "output_type": "stream",
     "text": [
      "/usr/local/lib/python3.6/dist-packages/IPython/core/magics/pylab.py:160: UserWarning: pylab import has clobbered these variables: ['random']\n",
      "`%matplotlib` prevents importing * from pylab and numpy\n",
      "  \"\\n`%matplotlib` prevents importing * from pylab and numpy\"\n"
     ]
    }
   ],
   "source": [
    "%pylab inline\n",
    "%config IPCompleter.greedy=True\n",
    "import requests # interaction with the web\n",
    "import os  #  file system operations\n",
    "import yaml # human-friendly data format\n",
    "import re  # regular expressions\n",
    "import pandas as pd # pandas... the best time series library out there\n",
    "import datetime as dt # date and time functions\n",
    "import io\n",
    "import time\n",
    "import sqlite3\n",
    "from common_fuctions import get_all_symbols\n",
    "import config\n",
    "from tqdm.notebook import tqdm\n",
    "import random"
   ]
  },
  {
   "cell_type": "markdown",
   "metadata": {},
   "source": [
    "Список бумаг с которыми мы будем работать:"
   ]
  },
  {
   "cell_type": "code",
   "execution_count": 4,
   "metadata": {},
   "outputs": [],
   "source": [
    "SP_SYMBOLS = ['A','AA','AAIC','AAL','AAN','AAOI','AAON','AAP','AAPL','AAT','AAWW','ABBV','ABC','ABCB','ABEO','ABG','ABM','ABMD','ABR','ABT','ABTX','AC','ACA','ACBI','ACC','ACCD','ACCO','ACEL','ACGL','ACHC','ACIA','ACIW','ACLS','ACM','ACN','ACNB','ACRE','ACRX','ACTG','ADBE','ADC','ADES','ADI','ADM','ADMA','ADNT','ADP','ADRO','ADS','ADSK','ADT','ADTN','ADUS','ADVM','AE','AEE','AEGN','AEIS','AEL','AEO','AEP','AERI','AES','AFG','AFIB','AFIN','AFL','AFMD','AGCO','AGEN','AGFS','AGIO','AGLE','AGM','AGN','AGNC','AGO','AGR','AGRX','AGS','AGTC','AGX','AGYS','AHCO','AHH','AIG','AIMC','AIN','AIR','AIT','AIV','AIZ','AJG','AJRD','AJX','AKAM','AKBA','AKR','AKRO','AKTS','AKUS','AL','ALB','ALBO','ALCO','ALE','ALEC','ALEX','ALG','ALGN','ALGS','ALGT','ALK','ALKS','ALL','ALLE','ALLK','ALLO','ALLY','ALNY','ALRM','ALRS','ALSK','ALSN','ALTA','ALTG','ALTR','ALVR','ALX','ALXN','ALXO','AMAL','AMAT','AMBA','AMBC','AMC','AMCX','AMD','AME','AMEH','AMG','AMGN','AMH','AMK','AMKR','AMN','AMNB','AMOT','AMP','AMPH','AMRC','AMRK','AMRS','AMRX','AMSC','AMSF','AMSWA','AMT','AMTB','AMTI','AMWD','AMZN','AN','ANAB','ANAT','ANDE','ANET','ANF','ANGO','ANH','ANIK','ANIP','ANNX','ANSS','ANTM','AON','AOS','AOSL','AOUT','APA','APAM','APD','APEI','APG','APH','APLE','APLS','APLT','APOG','APPF','APPN','APPS','APRE','APT','APTS','APTV','APTX','APY','APYX','AQST','AQUA','AR','ARA','ARAV','ARAY','ARCB','ARCH','ARCT','ARD','ARDX','ARE','ARGO','ARI','ARL','ARLO','ARMK','ARNA','ARNC','AROC','AROW','ARQT','ARR','ARTNA','ARVN','ARW','ARWR','ASB','ASC','ASGN','ASH','ASIX','ASMB','ASO','ASPN','ASPS','ASPU','ASTE','ASUR','AT','ATEC','ATEN','ATEX','ATGE','ATH','ATHA','ATHX','ATI','ATKR','ATLC','ATLO','ATNI','ATNX','ATO','ATOM','ATR','ATRA','ATRC','ATRI','ATRO','ATRS','ATSG','ATVI','ATXI','AUB','AUBN','AVA','AVAV','AVB','AVCO','AVD','AVEO','AVGO','AVID','AVIR','AVNS','AVNT','AVO','AVRO','AVT','AVXL','AVY','AVYA','AWH','AWI','AWK','AWR','AX','AXDX','AXGN','AXL','AXLA','AXNX','AXP','AXS','AXSM','AXTA','AXTI','AYI','AYTU','AZO','AZPN','AZZ','B','BA','BAC','BAH','BALY','BANC','BAND','BANF','BANR','BATRA','BATRK','BAX','BBBY','BBCP','BBIO','BBSI','BBY','BC','BCBP','BCC','BCEI','BCEL','BCLI','BCML','BCO','BCOR','BCOV','BCPC','BCRX','BDC','BDGE','BDN','BDSI','BDTX','BDX','BE','BEAM','BEAT','BECN','BELFB','BEN','BEPC','BERY','BFA','BFAM','BFB','BFC','BFIN','BFS','BFST','BG','BGCP','BGS','BGSF','BH','BHA','BHB','BHE','BHF','BHLB','BHVN','BIG','BIIB','BIO','BIPC','BJ','BJRI','BK','BKD','BKE','BKH','BKI','BKNG','BKR','BKU','BL','BLBD','BLD','BLDR','BLFS','BLK','BLKB','BLL','BLMN','BLPH','BLUE','BLX','BMI','BMRC','BMRN','BMTC','BMY','BNFT','BNL','BOCH','BOH','BOKF','BOMN','BOOM','BOOT','BOX','BPFH','BPMC','BPOP','BPRN','BPYU','BR','BRBR','BRC','BRG','BRID','BRK.B','BRKL','BRKR','BRKS','BRMK','BRO','BRP','BRT','BRX','BRY','BSBK','BSGM','BSIG','BSRR','BSVN','BSX','BTAI','BTU','BURL','BUSE','BV','BVH','BWA','BWB','BWFG','BWXT','BXG','BXMT','BXP','BXS','BY','BYD','BYND','BYSI','BZH','C','CABA','CABO','CAC','CACC','CACI','CADE','CAG','CAH','CAI','CAKE','CAL','CALA','CALB','CALM','CALX','CAMP','CAR','CARA','CARE','CARG','CARS','CASA','CASH','CASI','CASS','CASY','CAT','CATB','CATC','CATM','CATO','CATY','CB','CBAN','CBAY','CBB','CBFV','CBIO','CBMG','CBNK','CBOE','CBRE','CBRL','CBS','CBSH','CBT','CBTX','CBU','CBZ','CC','CCB','CCBG','CCCC','CCF','CCI','CCK','CCL','CCMP','CCNE','CCOI','CCRN','CCS','CCXI','CDAK','CDAY','CDE','CDEV','CDK','CDLX','CDMO','CDNA','CDNS','CDTX','CDW','CDXC','CDXS','CDZI','CE','CECE','CEIX','CELG','CELH','CEMI','CENT','CENTA','CENX','CERC','CERN','CERS','CEVA','CF','CFB','CFFI','CFFN','CFG','CFR','CFRX','CFX','CGNX','CHCO','CHCT','CHD','CHDN','CHE','CHEF','CHH','CHK','CHMA','CHMG','CHMI','CHRS','CHRW','CHS','CHTR','CHUY','CHX','CI','CIA','CIM','CINF','CIO','CIR','CIT','CIVB','CIX','CIZN','CKH','CKPT','CL','CLAR','CLBK','CLCT','CLDR','CLDT','CLF','CLFD','CLGX','CLH','CLI','CLNC','CLNE','CLNY','CLPR','CLR','CLVS','CLW','CLX','CLXT','CMA','CMBM','CMC','CMCL','CMCO','CMCSA','CMCT','CMD','CME','CMG','CMI','CMO','CMP','CMPI','CMPR','CMRE','CMRX','CMS','CMTL','CNA','CNBKA','CNC','CNCE','CNDT','CNK','CNMD','CNNE','CNO','CNOB','CNP','CNR','CNS','CNSL','CNST','CNTG','CNTY','CNX','CNXN','CODX','COF','COFS','COG','COHR','COHU','COKE','COLB','COLL','COLM','COMM','CONE','CONN','COO','COOP','COP','COR','CORE','CORR','CORT','COST','COTY','COWN','CPA','CPB','CPF','CPK','CPLG','CPRI','CPRT','CPRX','CPS','CPSI','CPT','CR','CRAI','CRBP','CRDA','CRI','CRK','CRL','CRM','CRMD','CRMT','CRNC','CRNX','CROX','CRS','CRSR','CRTX','CRVL','CRY','CSBR','CSCO','CSGP','CSGS','CSII','CSL','CSOD','CSPR','CSR','CSTE','CSTL','CSTR','CSV','CSWI','CSX','CTAS','CTB','CTBI','CTL','CTLT','CTMX','CTO','CTRE','CTRN','CTS','CTSH','CTSO','CTT','CTXS','CUB','CUBE','CUBI','CUE','CURO','CUTR','CVA','CVBF','CVCO','CVCY','CVET','CVGW','CVI','CVLG','CVLT','CVLY','CVM','CVS','CVX','CW','CWBR','CWCO','CWEN','CWENA','CWH','CWK','CWST','CWT','CXO','CXP','CXW','CY','CYBE','CYCN','CYH','CYRX','CYTK','CZNC','CZR','D','DAKT','DAL','DAN','DAR','DATA','DBD','DBI','DCI','DCO','DCOM','DCPH','DD','DDD','DDS','DE','DEA','DECK','DEI','DELL','DENN','DFIN','DFS','DG','DGICA','DGII','DGX','DHC','DHI','DHIL','DHR','DHT','DHX','DIN','DIOD','DIS','DISCA','DISCK','DISH','DJCO','DK','DKS','DLB','DLR','DLTH','DLTR','DLX','DMRC','DMTK','DNB','DNKN','DNLI','DNOW','DOC','DOCU','DOMO','DOOR','DORM','DOV','DOX','DPS','DPZ','DRE','DRH','DRI','DRNA','DRQ','DRRX','DSKE','DSPG','DSSI','DTE','DTIL','DUK','DVA','DVAX','DVN','DX','DXC','DXCM','DXPE','DY','DYAI','DYN','DZSI','EA','EAF','EAR','EARN','EAT','EB','EBAY','EBC','EBF','EBIX','EBMT','EBS','EBSB','EBTC','ECHO','ECL','ECOL','ECOM','ECPG','ED','EDIT','EEFT','EEX','EFC','EFSC','EFX','EGAN','EGBN','EGHT','EGLE','EGN','EGOV','EGP','EGRX','EHC','EHTH','EIDX','EIG','EIGI','EIGR','EIX','EL','ELA','ELF','ELMD','ELOX','ELS','ELY','EME','EML','EMN','EMR','ENDP','ENOB','ENR','ENS','ENSG','ENTA','ENV','ENVA','ENZ','EOG','EOLS','EPAC','EPAM','EPAY','EPC','EPM','EPR','EPRT','EPZM','EQBK','EQC','EQH','EQIX','EQR','EQT','ERIE','ERII','ES','ESCA','ESE','ESGC','ESGR','ESI','ESNT','ESPR','ESQ','ESRT','ESS','ESSA','ESTE','ESXB','ETH','ETM','ETN','ETNB','ETON','ETR','EV','EVBG','EVBN','EVC','EVER','EVFM','EVH','EVHC','EVI','EVLO','EVOP','EVR','EVRG','EVRI','EVTC','EW','EWBC','EXAS','EXC','EXEL','EXLS','EXP','EXPD','EXPE','EXPI','EXPO','EXPR','EXR','EXTN','EXTR','EYE','EZPW','F','FAF','FANG','FARM','FARO','FAST','FATE','FB','FBC','FBHS','FBIO','FBIZ','FBK','FBM','FBMS','FBNC','FBP','FC','FCAP','FCBC','FCBP','FCCO','FCCY','FCEL','FCF','FCFS','FCNCA','FCPT','FCX','FDBC','FDC','FDP','FDS','FDX','FE','FELE','FENC','FEYE','FF','FFBC','FFG','FFIC','FFIN','FFIV','FFWM','FGBI','FGEN','FHB','FHI','FHN','FHTX','FI','FIBK','FICO','FIS','FISI','FISV','FIT','FITB','FIX','FIXX','FIZZ','FL','FLDM','FLGT','FLIC','FLIR','FLMN','FLNT','FLO','FLOW','FLR','FLS','FLT','FLWS','FLXN','FMAO','FMBH','FMBI','FMC','FMNB','FMTX','FN','FNB','FNCB','FND','FNF','FNHC','FNKO','FNLC','FNWB','FOCS','FOE','FOLD','FONR','FOR','FORM','FORR','FOSL','FOX','FOXA','FOXF','FPI','FPRX','FRAF','FRBA','FRBK','FRC','FREQ','FRG','FRGI','FRME','FRO','FRPH','FRPT','FRT','FRTA','FSBW','FSFG','FSLR','FSP','FSS','FSTR','FTHM','FTNT','FTV','FUL','FULC','FULT','FUNC','FVCB','FVE','FWONA','FWONK','FWRD','G','GABC','GAIA','GALT','GAN','GATO','GATX','GBCI','GBIO','GBL','GBX','GCBC','GCI','GCO','GCP','GD','GDDY','GDEN','GDI','GDOT','GDP','GDYN','GE','GEF','GEFB','GENC','GEO','GERN','GES','GFF','GFN','GGG','GHC','GHL','GHM','GIII','GILD','GIS','GKOS','GL','GLDD','GLIBA','GLNG','GLPI','GLRE','GLT','GLUU','GLW','GLYC','GM','GME','GMRE','GMS','GNE','GNK','GNL','GNLN','GNMK','GNPX','GNSS','GNTX','GNTY','GNW','GOGO','GOLF','GOOD','GOOG','GOOGL','GORO','GORO_X','GOSS','GPC','GPI','GPK','GPMT','GPN','GPRE','GPRO','GPS','GPX','GRA','GRAY','GRBK','GRC','GRMN','GRPN','GRTS','GRTX','GRUB','GRWG','GS','GSBC','GSHD','GSIT','GSKY','GT','GTES','GTHX','GTLS','GTN','GTS','GTT','GTXI','GTY','GTYH','GVA','GWB','GWGH','GWR','GWRE','GWRS','GWW','H','HA','HAFC','HAIN','HAL','HALO','HARP','HAS','HASI','HAYN','HBAN','HBB','HBCP','HBI','HBIO','HBMD','HBNC','HBT','HCA','HCAT','HCC','HCCI','HCHC','HCI','HCKT','HCSG','HD','HDS','HE','HEAR','HEES','HEI','HEI.A','HELE','HES','HFC','HFFG','HFWA','HGV','HHC','HI','HIBB','HIFS','HIG','HII','HIW','HL','HLF','HLI','HLIO','HLIT','HLNE','HLT','HLX','HMHC','HMN','HMST','HMSY','HMTV','HNGR','HNI','HOFT','HOG','HOLX','HOMB','HOME','HON','HONE','HOOK','HOPE','HP','HPE','HPP','HPQ','HQY','HR','HRB','HRC','HRI','HRL','HRMY','HROW','HRTG','HRTX','HSC','HSIC','HSII','HSKA','HST','HSTM','HSY','HT','HTA','HTBI','HTBK','HTH','HTLD','HTLF','HUBB','HUBG','HUM','HUN','HURC','HURN','HVT','HWBK','HWC','HWKN','HXL','HY','HZO','IAC','IART','IBCP','IBEX','IBIO','IBKR','IBM','IBOC','IBP','IBTX','ICAD','ICBK','ICE','ICFI','ICHR','ICPT','ICUI','IDCC','IDN','IDT','IDXX','IDYA','IESC','IEX','IFF','IGMS','IGT','IHC','IHRT','III','IIIN','IIIV','IIN','IIPR','IIVI','ILMN','ILPT','IMAX','IMGN','IMKTA','IMMR','IMRA','IMUX','IMVT','IMXI','INBK','INBX','INCY','INDB','INDT','INFN','INFO','INFU','INGN','INGR','INN','INO','INOV','INS','INSG','INSM','INSP','INSW','INT','INTC','INTU','INVA','INVH','INZY','IONS','IOSP','IP','IPAR','IPG','IPGP','IPI','IQV','IR','IRBT','IRDM','IRM','IRMD','IRT','IRTC','IRWD','ISBC','ISEE','ISRG','ISTR','IT','ITCI','ITGR','ITI','ITIC','ITOS','ITRI','ITT','ITW','IVAC','IVC','IVR','IVZ','JACK','JAZZ','JBGS','JBHT','JBL','JBLU','JBSS','JBT','JCI','JCOM','JEC','JEF','JELD','JJSF','JKHY','JLL','JNCE','JNJ','JNPR','JOE','JOUT','JPM','JRVR','JW.A','JWN','JYNT','K','KAI','KALA','KALU','KALV','KAMN','KAR','KBAL','KBH','KBR','KDMN','KDNY','KE','KELYA','KERN','KEX','KEY','KEYS','KFRC','KFY','KHC','KIDS','KIM','KIN','KLAC','KLDO','KMB','KMI','KMT','KMX','KN','KNL','KNSA','KNSL','KNX','KO','KOD','KODK','KOP','KOS','KPTI','KR','KRA','KRC','KREF','KRG','KRMD','KRNY','KRO','KRON','KROS','KRTX','KRUS','KRYS','KSS','KSU','KTB','KTOS','KURA','KVHI','KW','KWR','KYMR','KZR','L','LAD','LADR','LAKE',\n",
    "              'LAMR','LANC','LAND','LARK','LASR','LAUR','LAWS','LAZ','LB','LBAI','LBC','LBRDA','LBRDK','LBRT','LC','LCI','LCII','LCNB','LCUT','LDL','LDOS','LE','LEA','LECO','LEG','LEGH','LEN','LEN.B','LEVL','LFUS','LFVN','LGF.A','LGF.B','LGIH','LGND','LH','LHCG','LHX','LII','LILA','LILAK','LIND','LIVN','LIVX','LJPC','LKFN','LKQ','LL','LLNW','LLY','LM','LMAT','LMNR','LMNX','LMST','LMT','LNC','LNDC','LNG','LNN','LNSR','LNT','LNTH','LOB','LOCO','LOGC','LOGM','LOPE','LORL','LOVE','LOW','LPG','LPLA','LPSN','LPT','LPX','LQDA','LQDT','LRCX','LRN','LSCC','LSF','LSI','LSTR','LSXMA','LSXMK','LTC','LTHM','LTRPA','LULU','LUNA','LUNG','LUV','LVS','LW','LXFR','LXP','LXRX','LYB','LYFT','LYRA','LYTS','LYV','LZB','M','MA','MAA','MAC','MAN','MANH','MANT','MAR','MAS','MASI','MAT','MATW','MATX','MAX','MAXN','MAXR','MBCN','MBI','MBII','MBIN','MBIO','MBUU','MBWM','MC','MCB','MCBC','MCBS','MCD','MCF','MCFT','MCHP','MCK','MCO','MCRB','MCRI','MCS','MCY','MD','MDC','MDGL','MDLZ','MDP','MDRX','MDT','MDU','MEC','MED','MEDP','MEG','MEI','MEIP','MESA','MET','MFA','MFAC','MFNC','MG','MGEE','MGI','MGLN','MGM','MGNI','MGNX','MGPI','MGRC','MGTA','MGTX','MGY','MHH','MHK','MHO','MIC','MIDD','MIK','MIME','MIRM','MITK','MKC','MKL','MKSI','MKTX','MLAB','MLHR','MLI','MLM','MLP','MLR','MLSS','MMAC','MMC','MMI','MMM','MMS','MMSI','MNKD','MNOV','MNR','MNRL','MNRO','MNSB','MNST','MO','MOD','MODN','MOFG','MOGA','MOH','MORF','MORN','MOS','MOV','MPAA','MPB','MPC','MPW','MPWR','MPX','MRBK','MRC','MRK','MRKR','MRLN','MRNS','MRO','MRSN','MRTN','MRTX','MRVL','MS','MSBI','MSCI','MSEX','MSFT','MSFUT','MSG','MSGN','MSI','MSM','MSON','MSTR','MTB','MTCH','MTCR','MTD','MTDR','MTEM','MTH','MTN','MTOR','MTRN','MTRX','MTSC','MTSI','MTW','MTX','MTZ','MU','MUR','MUSA','MVBF','MWA','MXIM','MXL','MYE','MYFW','MYGN','MYL','MYRG','NARI','NAT','NATH','NATI','NATR','NAV','NAVI','NBEV','NBHC','NBIX','NBN','NBR','NBSE','NBTB','NC','NCBS','NCLH','NCMI','NCR','NDAQ','NDLS','NDSN','NEE','NEM','NEO','NEOG','NERV','NESR','NEU','NEX','NEXT','NFBK','NFG','NFLX','NG','NGM','NGVC','NGVT','NH','NHC','NHI','NI','NJR','NK','NKE','NKSH','NKTR','NKTX','NL','NLOK','NLS','NLSN','NLTX','NLY','NMIH','NMRD','NMRK','NNBR','NNI','NNN','NOC','NODK','NOV','NOVA','NOVT','NOW','NP','NPK','NPO','NPTN','NR','NRBO','NRC','NRG','NRIM','NRIX','NRZ','NSA','NSC','NSCO','NSIT','NSP','NSSC','NSTG','NTAP','NTB','NTCT','NTGR','NTLA','NTNX','NTRA','NTRS','NTST','NTUS','NUAN','NUE','NUS','NUVA','NVAX','NVDA','NVEC','NVEE','NVR','NVRO','NVT','NVTA','NWBI','NWE','NWFL','NWL','NWLI','NWN','NWPX','NWS','NWSA','NX','NXGN','NXPI','NXRT','NXTC','NYCB','NYMT','NYMX','O','OBNK','OC','OCFC','OCUL','OCX','ODC','ODFL','ODP','ODT','OEC','OESX','OFC','OFED','OFG','OFIX','OFLX','OGE','OGS','OHI','OI','OII','OIS','OKE','OKTA','OLED','OLN','OLP','OM','OMC','OMCL','OMER','OMF','OMI','ON','ONB','ONCR','ONEM','ONEW','ONTO','OOMA','OPBK','OPCH','OPI','OPK','OPRT','OPRX','OPTN','OPY','ORA','ORBC','ORC','ORCL','ORGO','ORGS','ORI','ORIC','ORLY','ORRF','OSBC','OSG','OSIS','OSK','OSMT','OSPN','OSTK','OSUR','OSW','OTRK','OTTR','OUT','OVBC','OVID','OVLY','OVV','OXM','OXY','OYST','OZK','PACB','PACK','PACW','PAE','PAG','PAHC','PAND','PANL','PANW','PAR','PARR','PASG','PATK','PAVM','PAYC','PAYS','PAYX','PB','PBCT','PBF','PBFS','PBH','PBI','PBIP','PBYI','PCAR','PCB','PCG','PCH','PCRX','PCSB','PCTI','PCVX','PCYG','PCYO','PDCE','PDCO','PDFS','PDLB','PDLI','PDM','PE','PEAK','PEB','PEBK','PEBO','PEG','PEGA','PEN','PENN','PEP','PETQ','PETS','PF','PFBC','PFBI','PFC','PFE','PFG','PFGC','PFHD','PFIS','PFPT','PFS','PFSI','PFSW','PG','PGC','PGEN','PGNY','PGR','PGRE','PGTI','PH','PHAS','PHAT','PHM','PHR','PI','PICO','PII','PINC','PINE','PING','PIPR','PIRS','PJT','PK','PKBK','PKE','PKG','PKI','PKOH','PLAB','PLAY','PLBC','PLCE','PLD','PLMR','PLOW','PLPC','PLRX','PLSE','PLT','PLUG','PLUS','PLXS','PLYM','PM','PMT','PMVP','PNC','PNFP','PNM','PNR','PNRG','PNTG','PNW','PODD','POOL','POR','POST','POWI','POWL','PPBI','PPC','PPG','PPL','PQG','PRA','PRAA','PRAH','PRAX','PRDO','PRFT','PRG','PRGO','PRGS','PRIM','PRK','PRLB','PRLD','PRMW','PRO','PROG','PROS','PROV','PRPL','PRSC','PRSP','PRTA','PRTH','PRTK','PRTS','PRU','PRVB','PRVL','PSA','PSB','PSMT','PSN','PSNL','PSTG','PSTX','PSX','PTC','PTCT','PTEN','PTGX','PTRS','PTSI','PTVCB','PTVE','PUMP','PVAC','PVBC','PVH','PWFL','PWOD','PWR','PXD','PXLW','PYPL','PZN','PZZA','QADA','QCOM','QCRH','QGEN','QLYS','QMCO','QNST','QRTEA','QRVO','QTNT','QTRX','QTS','QTWO','QUAD','QUOT','R','RAD','RAMP','RAPT','RARE','RAVN','RBB','RBBN','RBC','RBCAA','RBNC','RC','RCII','RCKT','RCKY','RCL','RCM','RCUS','RDFN','RDN','RDNT','RDUS','RDVT','RE','REAL','REFR','REG','REGI','REGN','REPH','REPL','RES','RESI','RESN','REV','REVG','REX','REZI','RF','RFL','RGA','RGCO','RGLD','RGNX','RGP','RGR','RGS','RH','RHI','RHP','RICK','RIG','RIGL','RILY','RJF','RL','RLAY','RLGT','RLGY','RLI','RLJ','RLMD','RM','RMAX','RMBI','RMBS','RMD','RMNI','RMR','RMTI','RNA','RNG','RNR','RNST','ROAD','ROCK','ROG','ROIC','ROK','ROL','ROLL','ROP','ROST','RP','RPAI','RPAY','RPD','RPM','RPT','RRBI','RRC','RRGB','RRR','RS','RSG','RSPP','RTN','RUBY','RUN','RUSHA','RUSHB','RUTH','RVI','RVMD','RVNC','RVP','RVSB','RWT','RXN','RXT','RYAM','RYI','RYN','RYTM','S','SABR','SAFE','SAFM','SAFT','SAGE','SAH','SAIA','SAIL','SAL','SALT','SAMG','SANM','SASR','SATS','SAVA','SAVE','SB','SBAC','SBBP','SBCF','SBFG','SBGI','SBH','SBNY','SBRA','SBSI','SBT','SBUX','SC','SCCO','SCHL','SCHN','SCHW','SCI','SCL','SCOR','SCPH','SCS','SCSC','SCU','SCVL','SCWX','SDGR','SEAC','SEAS','SEB','SEE','SEIC','SELB','SEM','SENEA','SERV','SF','SFBS','SFE','SFIX','SFL','SFM','SFNC','SFST','SGA','SGC','SGEN','SGH','SGMO','SGMS','SGRY','SHAK','SHBI','SHEN','SHO','SHOO','SHW','SHYF','SI','SIBN','SIEB','SIEN','SIG','SIGA','SIGI','SILK','SIRI','SITC','SITE','SITM','SIVB','SIX','SJI','SJM','SJW','SKT','SKX','SKY','SKYW','SLAB','SLB','SLCA','SLCT','SLDB','SLG','SLGN','SLM','SLNO','SLP','SLQT','SM','SMBC','SMBK','SMCI','SMED','SMG','SMMF','SMP','SMPL','SMSI','SMTC','SNA','SNBR','SNCR','SNDR','SNDX','SNEX','SNFCA','SNPS','SNR','SNV','SO','SOI','SOLY','SON','SONA','SONO','SP','SPB','SPFI','SPG','SPGI','SPKE','SPLK','SPNE','SPNS','SPOK','SPPI','SPR','SPRB','SPRO','SPSC','SPT','SPTN','SPWH','SPWR','SPXC','SQ','SQZ','SR','SRC','SRCE','SRCL','SRDX','SRE','SREV','SRG','SRGA','SRI','SRNE','SRPT','SRRK','SRT','SSB','SSD','SSNC','SSP','SSTI','SSTK','ST','STAA','STAG','STAR','STAY','STBA','STC','STE','STEP','STFC','STI','STL','STLD','STMP','STND','STNG','STOK','STOR','STRA','STRL','STRO','STRS','STSA','STT','STTK','STWD','STXB','STXS','STZ','SUI','SUM','SUMO','SUPN','SVC','SVMK','SVRA','SWAV','SWBI','SWCH','SWK','SWKH','SWKS','SWM','SWN','SWTX','SWX','SXC','SXI','SXT','SYBT','SYF','SYK','SYKE','SYNA','SYRS','SYX','SYY','T','TACO','TALO','TAP','TARA','TARS','TAST','TBBK','TBI','TBIO','TBK','TBNK','TBPH','TCBI','TCBK','TCDA','TCF','TCFC','TCI','TCMD','TCO','TCRR','TCS','TCX','TDC','TDG','TDS','TDW','TDY','TEAM','TECH','TELA','TELL','TEN','TENB','TER','TEX','TFC','TFSL','TFX','TG','TGH','TGI','TGNA','TGT','TGTX','TH','THC','THFF','THG','THO','THR','THRM','THS','TIF','TIG','TILE','TIPT','TISI','TITN','TJX','TKR','TLYS','TMDX','TMHC','TMO','TMP','TMST','TMUS','TNAV','TNC','TNET','TOL','TOWN','TPB','TPC','TPCO','TPH','TPIC','TPR','TPRE','TPTX','TPX','TR','TRC','TREC','TRGP','TRHC','TRIP','TRMB','TRMK','TRN','TRNO','TRNS','TROW','TROX','TRS','TRST','TRTN','TRTX','TRU','TRUP','TRV','TSBK','TSC','TSCO','TSE','TSHA','TSLA','TSN','TSRO','TTC','TTEC','TTEK','TTGT','TTMI','TTWO','TUP','TVTX','TVTY','TWLO','TWNK','TWO','TWOU','TWST','TWTR','TXMD','TXN','TXRH','TXT','TYL','TYME','UA','UAA','UAL','UBA','UBER','UBFO','UBSI','UBX','UCBI','UCTT','UDR','UE','UEC','UEIC','UFCS','UFI','UFPI','UFPT','UFS','UGI','UHAL','UHS','UHT','UI','UIHC','UIS','ULBI','ULH','ULTA','ULTI','UMBF','UMH','UMPQ','UNF','UNFI','UNH','UNIT','UNM','UNP','UNTY','UNVR','UPLD','UPS','UPWK','URBN','URGN','URI','USB','USCR','USD','USFD','USG','USLM','USM','USNA','USPH','USX','UTHR','UTI','UTL','UTMD','UTX','UUUU','UVE','UVSP','UVV','V','VAC','VALU','VAPO','VAR','VBIV','VBTX','VC','VCEL','VCRA','VCYT','VEC','VECO','VEEV','VER','VERI','VERO','VERU','VERY','VFC','VG','VGR','VHC','VIAB','VIAC','VIAV','VICI','VICR','VIE','VIR','VIRT','VITL','VIVO','VKTX','VLGEA','VLO','VLY','VMC','VMD','VMI','VMW','VNDA','VNO','VNRX','VOXX','VOYA','VPG','VRA','VRAY','VRCA','VREX','VRNS','VRNT','VRRM','VRS','VRSK','VRSN','VRTS','VRTU','VRTV','VRTX','VSEC','VSH','VSM','VST','VSTM','VSTO','VTOL','VTR','VTVT','VVC','VVI','VVNT','VVV','VXRT','VYGR','VYNE','VZ','W','WAB','WABC','WAFD','WAL','WASH','WAT','WBA','WBC','WBS','WBT','WCC','WCG','WD','WDAY','WDC','WDFC','WDR','WEC','WELL','WEN','WERN','WETF','WEYS','WFC','WFTLF','WGO','WH','WHD','WHG','WHR','WIFI','WINA','WING','WIRE','WK','WKHS','WLDN','WLFC','WLK','WLL','WLLAW','WLLBW','WLTW','WM','WMB','WMC','WMK','WMS','WMT','WNC','WNEB','WOR','WOW','WP','WPC','WPX','WRAP','WRB','WRE','WRI','WRK','WRLD','WSBC','WSBF','WSC','WSFS','WSM','WSO','WSR','WST','WTBA','WTFC','WTI','WTM','WTRE','WTRG','WTRH','WTS','WTTR','WU','WVE','WW','WWW','WY','WYND','WYNN','X','XAIR','XBIT','XCUR','XEC','XEL','XENT','XERS','XFOR','XGN','XHR','XLNX','XNCR','XOG','XOM','XOMA','XONE','XPEL','XPER','XPO','XRAY','XRX','XTSLA','XYL','Y','YELP','YETI','YEXT','YMAB','YORW','YUM','YUMC','Z','ZAYO','ZBH','ZBRA','ZEN','ZEUS','ZG','ZGNX','ZION','ZIOP','ZIXI','ZNGA','ZNTL','ZTS','ZUMZ','ZUO','ZYXI','1']\n",
    "OLD_SP = ['ES','HIG','TROW','NI','EXC','SO','MET','CVX','STT','TXN','TMO','TSN','UNP','UTX','EBAY','MCO','PG','WY','PPG','PEP','IP','K','KMB','KR','LEG','L','MKC','SPGI','CVS','COP','ETR','MMM','MSI','XEL','NTRS','PFE','WHR','XRX','MAR','MO','PPL','PNW','PEG','HOG','M','QCOM','VNO','WM','EIX','SBUX','MS','KSS','FCX','DHI','MCK','DTE','DRI','WAT','ED','RTN','LHX','JNPR','MRK','DHR','DE','IBM','KLAC','SRE','FE','ROK','NSC','D','SEE','PAYX','VLO','HBAN','TPR','VIAB','BEN','F','MTB','USB','FITB','XOM','OMC','GLW','CL','KO','CAT','CPB','HUM','BMY','BA','WRK','AEP','DD','BHGE','GD','GE','ETN','HSY','HAL','WU','ARNC','HON','ABT','SHW','CMI','SLB','EMR','CSX','CLX','GIS','NEM','MCD','LLY','BAX','BDX','JNJ','GPC','HPQ','WMB','JPM','IFF','DIS','TAP','DUK','CI','NEE','AXP','WFC','LNC','BAC','INTC','TGT','TXT','VFC','WBA','AIG','PCAR','FDX','ADP','GWW','MAS','ADM','WMT','SWK','SNA','BF.B','AAPL','OXY','CAG','LB','T','VZ','LOW','PHM','HES','LMT','HAS','BLL','WCG','NUE','APD','PKI','NOC','CNP','TJX','DOV','PH','ITW','GPS','JWN','MDT','HRB','SYY','MMC','AVY','HD','PNC','STI','C','NKE','ECL','NWL','GL','ORCL','ADSK','MRO','AEE','AMGN','LIN','IPG','COST','CSCO','EMN','KEY','UNM','MSFT','UNH','LUV','CBS','MU','BSX','AMAT','BK','ALL','CMA','AON','AZO','ADBE','CAH','SCHW','EFX','APA','PGR','YUM','BBT','CINF','COF','RF','AES','CCL','CTL','AGN','CMS','AFL','NTAP','BBY','VMC','ADI','XLNX','CTXS','A','TIF','DVN','EOG','OI','AYE','GRA','CCK','SBL','RHI','BS','ABK','INTU','SYK','CTAS','FISV','ZION','ZBH','ABC','NVDA','EQR','SPG','UPS','EA','PFG','GS','PRU','ANTM','TRV','DGX','AIV','SYMC','PLD','QTRN','ESRX','BIIB','ETFC','MYL','GILD','LH','NOV','GLK','STZ','PSA','AMP','LEN','AMZN','EL','VRSN','BXP','GOOG','KIM','CME','CELG','FIS','CBRE','CTSH','AVB','SBL','RL','VAR','CHRW','HST','KFT','TSG','AIZ','DFS','AKAM','KSE','LUK','JEF','MCHP','ICE','EXPE','NBL','EXPD','AV','JEC','JEC','AMT','GME','DJ','TRB','RRC','TSS','PM','HCP','ISRG','ABK','LO','COG','MA','DVA','IVZ','CF','CRM','PXD','APH','FLS','NDAQ','WEC','SJM','PBCT','WYNN','XRAY','RSG','FLIR','IRM','WELL','VTR','HRL','JNY','ACAS','HRL','VTR','ORLY','FTI','WDC','PWR','FMC','FAST','ARG','CBE','PCLN','SGP','BKNG','ROST','V','ROP','NRG','BRK.B','HP','RX','HP','DISCA','OKE','BJS','CERN','CERN','KMX','XTO','QEP','STR','CB','MIL','CB','SII','TYC','JCI','IR','ODP','NYT','NFX','EK','CVC','KG','FFIV','NFLX','NFLX','FFIV','JOY','AYE','COV','MFE','Q','EW','BLK','EW','GENZ','BLK','CMG','NOVL','CMG','ANR','MEE','RSH','MPC','MPC','ACN','MI','ACN','NSM','MOS','MOS','TEL','CEPH','TEL','XYL','ITT','XYL','JNS','CBE','GAS','GAS','WFR','BWA','MWW','PRGO','DLTR','AKS','PRGO','BWA','DLTR','TLAB','TRIP','TRIP','WPX','CPWR','CEG','CCI','CCI','FOSL','MHS','PSX','SVU','PSX','EP','KMI','MMI','ALXN','ALXN','KMI','LRCX','NVLS','MNST','SLE','MNST','LRCX','PGN','STX','ESV','GR','LYB','SHLD','PNR','DV','ADT','LXK','KRFT','ANR','MDLZ','SUN','PETM','CBE','DG','RRD','GRMN','GRMN','DLPH','TIE','APTV','ABBV','FII','BIG','PVH','REGN','PCS','REGN','CVH','MAC','MAC','DF','KSU','KSU','GM','HNZ','FHN','ZTS','APOL','FOXA','FOXA','S','NLSN','NLSN','NWSA','DAL','BMC','DAL','VRTX','AME','SAI','AMD','AME','VRTX','DELL','RIG','NYX','KORS','CPRI','JCP','ALLE','GGP','MOLX','ANF','JDSU','TER','MHK','FB','ADS','TSCO','LIFE','WPX','GMCR','ESS','CLF','GOOGL','BEAM','SLM','UA','NAVI','LSI','AVGO','IGT','XEC','XEC','AMG','FRX','MLM','X','DISCK','DISCK','MNK','RDC','URI','UHS','GHC','BTU','JBL','LVLT','RCL','BMS','COV','ENDP','SWY','HCA','PETM','SWKS','HSIC','HSIC','CFN','HBI','SLG','EQIX','SLG','DNR','NBR','AVP','EQIX','AGN','HBI','AAL','WIN','O','QRVO','LO','BXLT','QEP','JBHT','TEG','CPGX','ATI','KRFT','KHC','AAP','FDO','AAP','NE','PYPL','DTV','SIG','PLL','ATVI','ATVI','UAL','HSP','UAL','FOX','NWS','CMCSK','CMCSA','VRSK','JOY','VRSK','HCBK','HPE','SYF','GNW','ILMN','SIAL','CSRA','CSC','CMCSK','ALTR','CHD','WLTW','FOSL','CB','EXR','CFG','CFG','BRCM','PCP','FRT','CXO','PCL','CNX','AWK','UDR','GMCR','UAA','HOLX','POM','CNC','ESV','CAM','FL','ULTA','THC','GME','GPN','ADT','AYI','ALK','SNDK','TWC','DLR','LKQ','ARG','CCE','AJG','TDG','BXLT','UA-C','FBHS','CVC','ALB','FTV','LNT','GAS','TE','CPGX','FTV','MTD','JCI','CHTR','EMC','COO','HOT','COO','COTY','DO','COTY','MAA','EVHC','LM','OI','IDXX','STJ','SE','INCY','PBI','CBOE','ENDP','REG','DISH','LLTC','SNPS','HAR','ARE','URBN','AMD','RJF','FSLR','FTR','SWN','DXC','IT','DNB','TGNA','INFO','ANSS','R','TDC','YHOO','RE','ALGN','HLT','MJN','MNK','MUR','BBBY','RIG','RAI','PKG','RMD','DRE','MGM','AOS','BHF','AN','IQV','WFM','Q','DD','SBAC','CDNS','SPLS','NCLH','LVLT','HII','BCR','IPGP','SNI','TTWO','PDCO','SIG','SIVB','NKTR','CHK','CSRA','MSCI','ABMD','WYN','NAVI','EVRG','MON','TWTR','RRC','AYI','HFC','BR','FLT','TWX','CPRT','DPS','GGP','ANET','XL','WCG','ROL','ANDV','FTNT','EVHC','KEYS','CA','EQT','JKHY','MXIM','LW','FANG','COL','AET','SRCL','CE','ESRX','SCG','FRC','PCG','TFX','NFX','ATO','WAB','GT','DOW','BHF','DOW','CTVA','FLR','MAT','AMCR','BMS','LLL','MKTX','TMUS','RHT','LDOS','APC','IEX','FL']\n",
    "SP_SYMBOLS = list(set(OLD_SP +SP_SYMBOLS))"
   ]
  },
  {
   "cell_type": "markdown",
   "metadata": {},
   "source": [
    "Период для работы:"
   ]
  },
  {
   "cell_type": "code",
   "execution_count": 5,
   "metadata": {},
   "outputs": [],
   "source": [
    "first_year = 2000\n",
    "last_year = 2021"
   ]
  },
  {
   "cell_type": "markdown",
   "metadata": {},
   "source": [
    "Файл БД"
   ]
  },
  {
   "cell_type": "code",
   "execution_count": 6,
   "metadata": {},
   "outputs": [],
   "source": [
    "base = 'invest2.db'"
   ]
  },
  {
   "cell_type": "markdown",
   "metadata": {},
   "source": [
    "Функция, в которой мы пытаемся прповерить обрабатывали ли мы эту пару год-бумага ранее"
   ]
  },
  {
   "cell_type": "code",
   "execution_count": 7,
   "metadata": {},
   "outputs": [],
   "source": [
    "def check_div(base,symbol,year):\n",
    "    conn = sqlite3.connect(base)\n",
    "    sql='select count(*) from dividends_history where symbol=\"'+symbol+'\" and (strftime(\"%Y\", DATE) = \"'+str(year)+'\")'\n",
    "    cursor = conn.cursor()\n",
    "    cursor.execute(sql)\n",
    "    results = cursor.fetchone()\n",
    "    conn.close()\n",
    "    if results[0] > 0:\n",
    "        return results[0]\n",
    "    else:\n",
    "        return 0"
   ]
  },
  {
   "cell_type": "markdown",
   "metadata": {},
   "source": [
    "Функция получения куки и токена для yahoo"
   ]
  },
  {
   "cell_type": "code",
   "execution_count": 8,
   "metadata": {},
   "outputs": [],
   "source": [
    "def cookie_crumb():\n",
    "# search with regular expressions\n",
    "# \"CrumbStore\":\\{\"crumb\":\"(?<crumb>[^\"]+)\"\\}\n",
    "    url = 'https://uk.finance.yahoo.com/quote/AAPL/history' # url for a ticker symbol, with a download link\n",
    "    r = requests.get(url)  # download page\n",
    "\n",
    "    txt = r.text # extract html  \n",
    "    cookie = r.cookies['B'] # the cooke we're looking for is named 'B'\n",
    "   \n",
    "    #print('Cookie: ', cookie)\n",
    "\n",
    "    # Now we need to extract the token from html. \n",
    "    # the string we need looks like this: \"CrumbStore\":{\"crumb\":\"lQHxbbYOBCq\"}\n",
    "    # regular expressions will do the trick!\n",
    "\n",
    "    pattern = re.compile('.*\"CrumbStore\":\\{\"crumb\":\"(?P<crumb>[^\"]+)\"\\}')\n",
    "\n",
    "    for line in txt.splitlines():\n",
    "        m = pattern.match(line)\n",
    "        if m is not None:\n",
    "            crumb = m.groupdict()['crumb']\n",
    "        \n",
    "        \n",
    "    #print('Crumb=',crumb)\n",
    "    return cookie,crumb"
   ]
  },
  {
   "cell_type": "markdown",
   "metadata": {},
   "source": [
    "Функция получения дивидентов за год:"
   ]
  },
  {
   "cell_type": "code",
   "execution_count": 9,
   "metadata": {},
   "outputs": [],
   "source": [
    "def getdiv(symbol,year,crumb,cookie):\n",
    "    sDate = (year,1,1)\n",
    "    eDate = (year,12,31)\n",
    "    dt.datetime(*sDate).timestamp() \n",
    "    data = (int(dt.datetime(*sDate).timestamp()),\n",
    "        int(dt.datetime(*eDate).timestamp()), \n",
    "        crumb)\n",
    "    url = \"https://query1.finance.yahoo.com/v7/finance/download/\"+symbol+\"?period1={0}&period2={1}&interval=1d&events=div&crumb={2}\".format(*data)\n",
    "    data = requests.get(url, cookies={'B':cookie})\n",
    "    buf = io.StringIO(data.text) # create a buffer\n",
    "    try:\n",
    "        #df = pd.read_csv(buf,index_col=0) # convert to pandas DataFrame\n",
    "        df = pd.read_csv(buf)\n",
    "    except:\n",
    "        print('Error parsing: '+symbol+' '+str(year))\n",
    "        print(url)\n",
    "        df =pd.DataFrame()\n",
    "    return df"
   ]
  },
  {
   "cell_type": "markdown",
   "metadata": {},
   "source": [
    "Функция вставки двидентов в базу"
   ]
  },
  {
   "cell_type": "code",
   "execution_count": 10,
   "metadata": {},
   "outputs": [],
   "source": [
    "def insert_div(base,symbol,date,dividents):\n",
    "    conn = sqlite3.connect(base)\n",
    "    cursor = conn.cursor()\n",
    "    cursor.execute(\"INSERT INTO dividends_history (SYMBOL,DATE,DIVIDENDS,UNIQ) VALUES (?,?,?,?);\",\n",
    "                  (symbol,date,dividents,symbol+date,))\n",
    "    conn.commit()\n",
    "    conn.close()"
   ]
  },
  {
   "cell_type": "markdown",
   "metadata": {},
   "source": [
    "# Основной цикл"
   ]
  },
  {
   "cell_type": "code",
   "execution_count": 13,
   "metadata": {},
   "outputs": [],
   "source": [
    "cookie, crumb = cookie_crumb()"
   ]
  },
  {
   "cell_type": "code",
   "execution_count": 14,
   "metadata": {},
   "outputs": [],
   "source": [
    "random.shuffle(SP_SYMBOLS)"
   ]
  },
  {
   "cell_type": "code",
   "execution_count": 15,
   "metadata": {
    "scrolled": false
   },
   "outputs": [
    {
     "data": {
      "application/vnd.jupyter.widget-view+json": {
       "model_id": "1f8950a80b1b456ea5dc9680eebfa587",
       "version_major": 2,
       "version_minor": 0
      },
      "text/plain": [
       "  0%|          | 0/3121 [00:00<?, ?it/s]"
      ]
     },
     "metadata": {},
     "output_type": "display_data"
    },
    {
     "ename": "KeyboardInterrupt",
     "evalue": "",
     "output_type": "error",
     "traceback": [
      "\u001b[0;31m---------------------------------------------------------------------------\u001b[0m",
      "\u001b[0;31mKeyboardInterrupt\u001b[0m                         Traceback (most recent call last)",
      "\u001b[0;32m<timed exec>\u001b[0m in \u001b[0;36m<module>\u001b[0;34m\u001b[0m\n",
      "\u001b[0;32m<ipython-input-9-2412a2b50e20>\u001b[0m in \u001b[0;36mgetdiv\u001b[0;34m(symbol, year, crumb, cookie)\u001b[0m\n\u001b[1;32m      7\u001b[0m         crumb)\n\u001b[1;32m      8\u001b[0m     \u001b[0murl\u001b[0m \u001b[0;34m=\u001b[0m \u001b[0;34m\"https://query1.finance.yahoo.com/v7/finance/download/\"\u001b[0m\u001b[0;34m+\u001b[0m\u001b[0msymbol\u001b[0m\u001b[0;34m+\u001b[0m\u001b[0;34m\"?period1={0}&period2={1}&interval=1d&events=div&crumb={2}\"\u001b[0m\u001b[0;34m.\u001b[0m\u001b[0mformat\u001b[0m\u001b[0;34m(\u001b[0m\u001b[0;34m*\u001b[0m\u001b[0mdata\u001b[0m\u001b[0;34m)\u001b[0m\u001b[0;34m\u001b[0m\u001b[0;34m\u001b[0m\u001b[0m\n\u001b[0;32m----> 9\u001b[0;31m     \u001b[0mdata\u001b[0m \u001b[0;34m=\u001b[0m \u001b[0mrequests\u001b[0m\u001b[0;34m.\u001b[0m\u001b[0mget\u001b[0m\u001b[0;34m(\u001b[0m\u001b[0murl\u001b[0m\u001b[0;34m,\u001b[0m \u001b[0mcookies\u001b[0m\u001b[0;34m=\u001b[0m\u001b[0;34m{\u001b[0m\u001b[0;34m'B'\u001b[0m\u001b[0;34m:\u001b[0m\u001b[0mcookie\u001b[0m\u001b[0;34m}\u001b[0m\u001b[0;34m)\u001b[0m\u001b[0;34m\u001b[0m\u001b[0;34m\u001b[0m\u001b[0m\n\u001b[0m\u001b[1;32m     10\u001b[0m     \u001b[0mbuf\u001b[0m \u001b[0;34m=\u001b[0m \u001b[0mio\u001b[0m\u001b[0;34m.\u001b[0m\u001b[0mStringIO\u001b[0m\u001b[0;34m(\u001b[0m\u001b[0mdata\u001b[0m\u001b[0;34m.\u001b[0m\u001b[0mtext\u001b[0m\u001b[0;34m)\u001b[0m \u001b[0;31m# create a buffer\u001b[0m\u001b[0;34m\u001b[0m\u001b[0;34m\u001b[0m\u001b[0m\n\u001b[1;32m     11\u001b[0m     \u001b[0;32mtry\u001b[0m\u001b[0;34m:\u001b[0m\u001b[0;34m\u001b[0m\u001b[0;34m\u001b[0m\u001b[0m\n",
      "\u001b[0;32m/usr/local/lib/python3.6/dist-packages/requests/api.py\u001b[0m in \u001b[0;36mget\u001b[0;34m(url, params, **kwargs)\u001b[0m\n\u001b[1;32m     74\u001b[0m \u001b[0;34m\u001b[0m\u001b[0m\n\u001b[1;32m     75\u001b[0m     \u001b[0mkwargs\u001b[0m\u001b[0;34m.\u001b[0m\u001b[0msetdefault\u001b[0m\u001b[0;34m(\u001b[0m\u001b[0;34m'allow_redirects'\u001b[0m\u001b[0;34m,\u001b[0m \u001b[0;32mTrue\u001b[0m\u001b[0;34m)\u001b[0m\u001b[0;34m\u001b[0m\u001b[0;34m\u001b[0m\u001b[0m\n\u001b[0;32m---> 76\u001b[0;31m     \u001b[0;32mreturn\u001b[0m \u001b[0mrequest\u001b[0m\u001b[0;34m(\u001b[0m\u001b[0;34m'get'\u001b[0m\u001b[0;34m,\u001b[0m \u001b[0murl\u001b[0m\u001b[0;34m,\u001b[0m \u001b[0mparams\u001b[0m\u001b[0;34m=\u001b[0m\u001b[0mparams\u001b[0m\u001b[0;34m,\u001b[0m \u001b[0;34m**\u001b[0m\u001b[0mkwargs\u001b[0m\u001b[0;34m)\u001b[0m\u001b[0;34m\u001b[0m\u001b[0;34m\u001b[0m\u001b[0m\n\u001b[0m\u001b[1;32m     77\u001b[0m \u001b[0;34m\u001b[0m\u001b[0m\n\u001b[1;32m     78\u001b[0m \u001b[0;34m\u001b[0m\u001b[0m\n",
      "\u001b[0;32m/usr/local/lib/python3.6/dist-packages/requests/api.py\u001b[0m in \u001b[0;36mrequest\u001b[0;34m(method, url, **kwargs)\u001b[0m\n\u001b[1;32m     59\u001b[0m     \u001b[0;31m# cases, and look like a memory leak in others.\u001b[0m\u001b[0;34m\u001b[0m\u001b[0;34m\u001b[0m\u001b[0;34m\u001b[0m\u001b[0m\n\u001b[1;32m     60\u001b[0m     \u001b[0;32mwith\u001b[0m \u001b[0msessions\u001b[0m\u001b[0;34m.\u001b[0m\u001b[0mSession\u001b[0m\u001b[0;34m(\u001b[0m\u001b[0;34m)\u001b[0m \u001b[0;32mas\u001b[0m \u001b[0msession\u001b[0m\u001b[0;34m:\u001b[0m\u001b[0;34m\u001b[0m\u001b[0;34m\u001b[0m\u001b[0m\n\u001b[0;32m---> 61\u001b[0;31m         \u001b[0;32mreturn\u001b[0m \u001b[0msession\u001b[0m\u001b[0;34m.\u001b[0m\u001b[0mrequest\u001b[0m\u001b[0;34m(\u001b[0m\u001b[0mmethod\u001b[0m\u001b[0;34m=\u001b[0m\u001b[0mmethod\u001b[0m\u001b[0;34m,\u001b[0m \u001b[0murl\u001b[0m\u001b[0;34m=\u001b[0m\u001b[0murl\u001b[0m\u001b[0;34m,\u001b[0m \u001b[0;34m**\u001b[0m\u001b[0mkwargs\u001b[0m\u001b[0;34m)\u001b[0m\u001b[0;34m\u001b[0m\u001b[0;34m\u001b[0m\u001b[0m\n\u001b[0m\u001b[1;32m     62\u001b[0m \u001b[0;34m\u001b[0m\u001b[0m\n\u001b[1;32m     63\u001b[0m \u001b[0;34m\u001b[0m\u001b[0m\n",
      "\u001b[0;32m/usr/local/lib/python3.6/dist-packages/requests/sessions.py\u001b[0m in \u001b[0;36mrequest\u001b[0;34m(self, method, url, params, data, headers, cookies, files, auth, timeout, allow_redirects, proxies, hooks, stream, verify, cert, json)\u001b[0m\n\u001b[1;32m    540\u001b[0m         }\n\u001b[1;32m    541\u001b[0m         \u001b[0msend_kwargs\u001b[0m\u001b[0;34m.\u001b[0m\u001b[0mupdate\u001b[0m\u001b[0;34m(\u001b[0m\u001b[0msettings\u001b[0m\u001b[0;34m)\u001b[0m\u001b[0;34m\u001b[0m\u001b[0;34m\u001b[0m\u001b[0m\n\u001b[0;32m--> 542\u001b[0;31m         \u001b[0mresp\u001b[0m \u001b[0;34m=\u001b[0m \u001b[0mself\u001b[0m\u001b[0;34m.\u001b[0m\u001b[0msend\u001b[0m\u001b[0;34m(\u001b[0m\u001b[0mprep\u001b[0m\u001b[0;34m,\u001b[0m \u001b[0;34m**\u001b[0m\u001b[0msend_kwargs\u001b[0m\u001b[0;34m)\u001b[0m\u001b[0;34m\u001b[0m\u001b[0;34m\u001b[0m\u001b[0m\n\u001b[0m\u001b[1;32m    543\u001b[0m \u001b[0;34m\u001b[0m\u001b[0m\n\u001b[1;32m    544\u001b[0m         \u001b[0;32mreturn\u001b[0m \u001b[0mresp\u001b[0m\u001b[0;34m\u001b[0m\u001b[0;34m\u001b[0m\u001b[0m\n",
      "\u001b[0;32m/usr/local/lib/python3.6/dist-packages/requests/sessions.py\u001b[0m in \u001b[0;36msend\u001b[0;34m(self, request, **kwargs)\u001b[0m\n\u001b[1;32m    653\u001b[0m \u001b[0;34m\u001b[0m\u001b[0m\n\u001b[1;32m    654\u001b[0m         \u001b[0;31m# Send the request\u001b[0m\u001b[0;34m\u001b[0m\u001b[0;34m\u001b[0m\u001b[0;34m\u001b[0m\u001b[0m\n\u001b[0;32m--> 655\u001b[0;31m         \u001b[0mr\u001b[0m \u001b[0;34m=\u001b[0m \u001b[0madapter\u001b[0m\u001b[0;34m.\u001b[0m\u001b[0msend\u001b[0m\u001b[0;34m(\u001b[0m\u001b[0mrequest\u001b[0m\u001b[0;34m,\u001b[0m \u001b[0;34m**\u001b[0m\u001b[0mkwargs\u001b[0m\u001b[0;34m)\u001b[0m\u001b[0;34m\u001b[0m\u001b[0;34m\u001b[0m\u001b[0m\n\u001b[0m\u001b[1;32m    656\u001b[0m \u001b[0;34m\u001b[0m\u001b[0m\n\u001b[1;32m    657\u001b[0m         \u001b[0;31m# Total elapsed time of the request (approximately)\u001b[0m\u001b[0;34m\u001b[0m\u001b[0;34m\u001b[0m\u001b[0;34m\u001b[0m\u001b[0m\n",
      "\u001b[0;32m/usr/local/lib/python3.6/dist-packages/requests/adapters.py\u001b[0m in \u001b[0;36msend\u001b[0;34m(self, request, stream, timeout, verify, cert, proxies)\u001b[0m\n\u001b[1;32m    447\u001b[0m                     \u001b[0mdecode_content\u001b[0m\u001b[0;34m=\u001b[0m\u001b[0;32mFalse\u001b[0m\u001b[0;34m,\u001b[0m\u001b[0;34m\u001b[0m\u001b[0;34m\u001b[0m\u001b[0m\n\u001b[1;32m    448\u001b[0m                     \u001b[0mretries\u001b[0m\u001b[0;34m=\u001b[0m\u001b[0mself\u001b[0m\u001b[0;34m.\u001b[0m\u001b[0mmax_retries\u001b[0m\u001b[0;34m,\u001b[0m\u001b[0;34m\u001b[0m\u001b[0;34m\u001b[0m\u001b[0m\n\u001b[0;32m--> 449\u001b[0;31m                     \u001b[0mtimeout\u001b[0m\u001b[0;34m=\u001b[0m\u001b[0mtimeout\u001b[0m\u001b[0;34m\u001b[0m\u001b[0;34m\u001b[0m\u001b[0m\n\u001b[0m\u001b[1;32m    450\u001b[0m                 )\n\u001b[1;32m    451\u001b[0m \u001b[0;34m\u001b[0m\u001b[0m\n",
      "\u001b[0;32m/usr/lib/python3/dist-packages/urllib3/connectionpool.py\u001b[0m in \u001b[0;36murlopen\u001b[0;34m(self, method, url, body, headers, retries, redirect, assert_same_host, timeout, pool_timeout, release_conn, chunked, body_pos, **response_kw)\u001b[0m\n\u001b[1;32m    599\u001b[0m                                                   \u001b[0mtimeout\u001b[0m\u001b[0;34m=\u001b[0m\u001b[0mtimeout_obj\u001b[0m\u001b[0;34m,\u001b[0m\u001b[0;34m\u001b[0m\u001b[0;34m\u001b[0m\u001b[0m\n\u001b[1;32m    600\u001b[0m                                                   \u001b[0mbody\u001b[0m\u001b[0;34m=\u001b[0m\u001b[0mbody\u001b[0m\u001b[0;34m,\u001b[0m \u001b[0mheaders\u001b[0m\u001b[0;34m=\u001b[0m\u001b[0mheaders\u001b[0m\u001b[0;34m,\u001b[0m\u001b[0;34m\u001b[0m\u001b[0;34m\u001b[0m\u001b[0m\n\u001b[0;32m--> 601\u001b[0;31m                                                   chunked=chunked)\n\u001b[0m\u001b[1;32m    602\u001b[0m \u001b[0;34m\u001b[0m\u001b[0m\n\u001b[1;32m    603\u001b[0m             \u001b[0;31m# If we're going to release the connection in ``finally:``, then\u001b[0m\u001b[0;34m\u001b[0m\u001b[0;34m\u001b[0m\u001b[0;34m\u001b[0m\u001b[0m\n",
      "\u001b[0;32m/usr/lib/python3/dist-packages/urllib3/connectionpool.py\u001b[0m in \u001b[0;36m_make_request\u001b[0;34m(self, conn, method, url, timeout, chunked, **httplib_request_kw)\u001b[0m\n\u001b[1;32m    344\u001b[0m         \u001b[0;31m# Trigger any extra validation we need to do.\u001b[0m\u001b[0;34m\u001b[0m\u001b[0;34m\u001b[0m\u001b[0;34m\u001b[0m\u001b[0m\n\u001b[1;32m    345\u001b[0m         \u001b[0;32mtry\u001b[0m\u001b[0;34m:\u001b[0m\u001b[0;34m\u001b[0m\u001b[0;34m\u001b[0m\u001b[0m\n\u001b[0;32m--> 346\u001b[0;31m             \u001b[0mself\u001b[0m\u001b[0;34m.\u001b[0m\u001b[0m_validate_conn\u001b[0m\u001b[0;34m(\u001b[0m\u001b[0mconn\u001b[0m\u001b[0;34m)\u001b[0m\u001b[0;34m\u001b[0m\u001b[0;34m\u001b[0m\u001b[0m\n\u001b[0m\u001b[1;32m    347\u001b[0m         \u001b[0;32mexcept\u001b[0m \u001b[0;34m(\u001b[0m\u001b[0mSocketTimeout\u001b[0m\u001b[0;34m,\u001b[0m \u001b[0mBaseSSLError\u001b[0m\u001b[0;34m)\u001b[0m \u001b[0;32mas\u001b[0m \u001b[0me\u001b[0m\u001b[0;34m:\u001b[0m\u001b[0;34m\u001b[0m\u001b[0;34m\u001b[0m\u001b[0m\n\u001b[1;32m    348\u001b[0m             \u001b[0;31m# Py2 raises this as a BaseSSLError, Py3 raises it as socket timeout.\u001b[0m\u001b[0;34m\u001b[0m\u001b[0;34m\u001b[0m\u001b[0;34m\u001b[0m\u001b[0m\n",
      "\u001b[0;32m/usr/lib/python3/dist-packages/urllib3/connectionpool.py\u001b[0m in \u001b[0;36m_validate_conn\u001b[0;34m(self, conn)\u001b[0m\n\u001b[1;32m    850\u001b[0m         \u001b[0;31m# Force connect early to allow us to validate the connection.\u001b[0m\u001b[0;34m\u001b[0m\u001b[0;34m\u001b[0m\u001b[0;34m\u001b[0m\u001b[0m\n\u001b[1;32m    851\u001b[0m         \u001b[0;32mif\u001b[0m \u001b[0;32mnot\u001b[0m \u001b[0mgetattr\u001b[0m\u001b[0;34m(\u001b[0m\u001b[0mconn\u001b[0m\u001b[0;34m,\u001b[0m \u001b[0;34m'sock'\u001b[0m\u001b[0;34m,\u001b[0m \u001b[0;32mNone\u001b[0m\u001b[0;34m)\u001b[0m\u001b[0;34m:\u001b[0m  \u001b[0;31m# AppEngine might not have  `.sock`\u001b[0m\u001b[0;34m\u001b[0m\u001b[0;34m\u001b[0m\u001b[0m\n\u001b[0;32m--> 852\u001b[0;31m             \u001b[0mconn\u001b[0m\u001b[0;34m.\u001b[0m\u001b[0mconnect\u001b[0m\u001b[0;34m(\u001b[0m\u001b[0;34m)\u001b[0m\u001b[0;34m\u001b[0m\u001b[0;34m\u001b[0m\u001b[0m\n\u001b[0m\u001b[1;32m    853\u001b[0m \u001b[0;34m\u001b[0m\u001b[0m\n\u001b[1;32m    854\u001b[0m         \u001b[0;32mif\u001b[0m \u001b[0;32mnot\u001b[0m \u001b[0mconn\u001b[0m\u001b[0;34m.\u001b[0m\u001b[0mis_verified\u001b[0m\u001b[0;34m:\u001b[0m\u001b[0;34m\u001b[0m\u001b[0;34m\u001b[0m\u001b[0m\n",
      "\u001b[0;32m/usr/lib/python3/dist-packages/urllib3/connection.py\u001b[0m in \u001b[0;36mconnect\u001b[0;34m(self)\u001b[0m\n\u001b[1;32m    338\u001b[0m             \u001b[0mca_cert_dir\u001b[0m\u001b[0;34m=\u001b[0m\u001b[0mself\u001b[0m\u001b[0;34m.\u001b[0m\u001b[0mca_cert_dir\u001b[0m\u001b[0;34m,\u001b[0m\u001b[0;34m\u001b[0m\u001b[0;34m\u001b[0m\u001b[0m\n\u001b[1;32m    339\u001b[0m             \u001b[0mserver_hostname\u001b[0m\u001b[0;34m=\u001b[0m\u001b[0mhostname\u001b[0m\u001b[0;34m,\u001b[0m\u001b[0;34m\u001b[0m\u001b[0;34m\u001b[0m\u001b[0m\n\u001b[0;32m--> 340\u001b[0;31m             ssl_context=context)\n\u001b[0m\u001b[1;32m    341\u001b[0m \u001b[0;34m\u001b[0m\u001b[0m\n\u001b[1;32m    342\u001b[0m         \u001b[0;32mif\u001b[0m \u001b[0mself\u001b[0m\u001b[0;34m.\u001b[0m\u001b[0massert_fingerprint\u001b[0m\u001b[0;34m:\u001b[0m\u001b[0;34m\u001b[0m\u001b[0;34m\u001b[0m\u001b[0m\n",
      "\u001b[0;32m/usr/lib/python3/dist-packages/urllib3/util/ssl_.py\u001b[0m in \u001b[0;36mssl_wrap_socket\u001b[0;34m(sock, keyfile, certfile, cert_reqs, ca_certs, server_hostname, ssl_version, ciphers, ssl_context, ca_cert_dir)\u001b[0m\n\u001b[1;32m    330\u001b[0m         \u001b[0mcontext\u001b[0m\u001b[0;34m.\u001b[0m\u001b[0mload_cert_chain\u001b[0m\u001b[0;34m(\u001b[0m\u001b[0mcertfile\u001b[0m\u001b[0;34m,\u001b[0m \u001b[0mkeyfile\u001b[0m\u001b[0;34m)\u001b[0m\u001b[0;34m\u001b[0m\u001b[0;34m\u001b[0m\u001b[0m\n\u001b[1;32m    331\u001b[0m     \u001b[0;32mif\u001b[0m \u001b[0mHAS_SNI\u001b[0m\u001b[0;34m:\u001b[0m  \u001b[0;31m# Platform-specific: OpenSSL with enabled SNI\u001b[0m\u001b[0;34m\u001b[0m\u001b[0;34m\u001b[0m\u001b[0m\n\u001b[0;32m--> 332\u001b[0;31m         \u001b[0;32mreturn\u001b[0m \u001b[0mcontext\u001b[0m\u001b[0;34m.\u001b[0m\u001b[0mwrap_socket\u001b[0m\u001b[0;34m(\u001b[0m\u001b[0msock\u001b[0m\u001b[0;34m,\u001b[0m \u001b[0mserver_hostname\u001b[0m\u001b[0;34m=\u001b[0m\u001b[0mserver_hostname\u001b[0m\u001b[0;34m)\u001b[0m\u001b[0;34m\u001b[0m\u001b[0;34m\u001b[0m\u001b[0m\n\u001b[0m\u001b[1;32m    333\u001b[0m \u001b[0;34m\u001b[0m\u001b[0m\n\u001b[1;32m    334\u001b[0m     warnings.warn(\n",
      "\u001b[0;32m/usr/lib/python3.6/ssl.py\u001b[0m in \u001b[0;36mwrap_socket\u001b[0;34m(self, sock, server_side, do_handshake_on_connect, suppress_ragged_eofs, server_hostname, session)\u001b[0m\n\u001b[1;32m    405\u001b[0m                          \u001b[0msuppress_ragged_eofs\u001b[0m\u001b[0;34m=\u001b[0m\u001b[0msuppress_ragged_eofs\u001b[0m\u001b[0;34m,\u001b[0m\u001b[0;34m\u001b[0m\u001b[0;34m\u001b[0m\u001b[0m\n\u001b[1;32m    406\u001b[0m                          \u001b[0mserver_hostname\u001b[0m\u001b[0;34m=\u001b[0m\u001b[0mserver_hostname\u001b[0m\u001b[0;34m,\u001b[0m\u001b[0;34m\u001b[0m\u001b[0;34m\u001b[0m\u001b[0m\n\u001b[0;32m--> 407\u001b[0;31m                          _context=self, _session=session)\n\u001b[0m\u001b[1;32m    408\u001b[0m \u001b[0;34m\u001b[0m\u001b[0m\n\u001b[1;32m    409\u001b[0m     def wrap_bio(self, incoming, outgoing, server_side=False,\n",
      "\u001b[0;32m/usr/lib/python3.6/ssl.py\u001b[0m in \u001b[0;36m__init__\u001b[0;34m(self, sock, keyfile, certfile, server_side, cert_reqs, ssl_version, ca_certs, do_handshake_on_connect, family, type, proto, fileno, suppress_ragged_eofs, npn_protocols, ciphers, server_hostname, _context, _session)\u001b[0m\n\u001b[1;32m    815\u001b[0m                         \u001b[0;31m# non-blocking\u001b[0m\u001b[0;34m\u001b[0m\u001b[0;34m\u001b[0m\u001b[0;34m\u001b[0m\u001b[0m\n\u001b[1;32m    816\u001b[0m                         \u001b[0;32mraise\u001b[0m \u001b[0mValueError\u001b[0m\u001b[0;34m(\u001b[0m\u001b[0;34m\"do_handshake_on_connect should not be specified for non-blocking sockets\"\u001b[0m\u001b[0;34m)\u001b[0m\u001b[0;34m\u001b[0m\u001b[0;34m\u001b[0m\u001b[0m\n\u001b[0;32m--> 817\u001b[0;31m                     \u001b[0mself\u001b[0m\u001b[0;34m.\u001b[0m\u001b[0mdo_handshake\u001b[0m\u001b[0;34m(\u001b[0m\u001b[0;34m)\u001b[0m\u001b[0;34m\u001b[0m\u001b[0;34m\u001b[0m\u001b[0m\n\u001b[0m\u001b[1;32m    818\u001b[0m \u001b[0;34m\u001b[0m\u001b[0m\n\u001b[1;32m    819\u001b[0m             \u001b[0;32mexcept\u001b[0m \u001b[0;34m(\u001b[0m\u001b[0mOSError\u001b[0m\u001b[0;34m,\u001b[0m \u001b[0mValueError\u001b[0m\u001b[0;34m)\u001b[0m\u001b[0;34m:\u001b[0m\u001b[0;34m\u001b[0m\u001b[0;34m\u001b[0m\u001b[0m\n",
      "\u001b[0;32m/usr/lib/python3.6/ssl.py\u001b[0m in \u001b[0;36mdo_handshake\u001b[0;34m(self, block)\u001b[0m\n\u001b[1;32m   1075\u001b[0m             \u001b[0;32mif\u001b[0m \u001b[0mtimeout\u001b[0m \u001b[0;34m==\u001b[0m \u001b[0;36m0.0\u001b[0m \u001b[0;32mand\u001b[0m \u001b[0mblock\u001b[0m\u001b[0;34m:\u001b[0m\u001b[0;34m\u001b[0m\u001b[0;34m\u001b[0m\u001b[0m\n\u001b[1;32m   1076\u001b[0m                 \u001b[0mself\u001b[0m\u001b[0;34m.\u001b[0m\u001b[0msettimeout\u001b[0m\u001b[0;34m(\u001b[0m\u001b[0;32mNone\u001b[0m\u001b[0;34m)\u001b[0m\u001b[0;34m\u001b[0m\u001b[0;34m\u001b[0m\u001b[0m\n\u001b[0;32m-> 1077\u001b[0;31m             \u001b[0mself\u001b[0m\u001b[0;34m.\u001b[0m\u001b[0m_sslobj\u001b[0m\u001b[0;34m.\u001b[0m\u001b[0mdo_handshake\u001b[0m\u001b[0;34m(\u001b[0m\u001b[0;34m)\u001b[0m\u001b[0;34m\u001b[0m\u001b[0;34m\u001b[0m\u001b[0m\n\u001b[0m\u001b[1;32m   1078\u001b[0m         \u001b[0;32mfinally\u001b[0m\u001b[0;34m:\u001b[0m\u001b[0;34m\u001b[0m\u001b[0;34m\u001b[0m\u001b[0m\n\u001b[1;32m   1079\u001b[0m             \u001b[0mself\u001b[0m\u001b[0;34m.\u001b[0m\u001b[0msettimeout\u001b[0m\u001b[0;34m(\u001b[0m\u001b[0mtimeout\u001b[0m\u001b[0;34m)\u001b[0m\u001b[0;34m\u001b[0m\u001b[0;34m\u001b[0m\u001b[0m\n",
      "\u001b[0;32m/usr/lib/python3.6/ssl.py\u001b[0m in \u001b[0;36mdo_handshake\u001b[0;34m(self)\u001b[0m\n\u001b[1;32m    687\u001b[0m     \u001b[0;32mdef\u001b[0m \u001b[0mdo_handshake\u001b[0m\u001b[0;34m(\u001b[0m\u001b[0mself\u001b[0m\u001b[0;34m)\u001b[0m\u001b[0;34m:\u001b[0m\u001b[0;34m\u001b[0m\u001b[0;34m\u001b[0m\u001b[0m\n\u001b[1;32m    688\u001b[0m         \u001b[0;34m\"\"\"Start the SSL/TLS handshake.\"\"\"\u001b[0m\u001b[0;34m\u001b[0m\u001b[0;34m\u001b[0m\u001b[0m\n\u001b[0;32m--> 689\u001b[0;31m         \u001b[0mself\u001b[0m\u001b[0;34m.\u001b[0m\u001b[0m_sslobj\u001b[0m\u001b[0;34m.\u001b[0m\u001b[0mdo_handshake\u001b[0m\u001b[0;34m(\u001b[0m\u001b[0;34m)\u001b[0m\u001b[0;34m\u001b[0m\u001b[0;34m\u001b[0m\u001b[0m\n\u001b[0m\u001b[1;32m    690\u001b[0m         \u001b[0;32mif\u001b[0m \u001b[0mself\u001b[0m\u001b[0;34m.\u001b[0m\u001b[0mcontext\u001b[0m\u001b[0;34m.\u001b[0m\u001b[0mcheck_hostname\u001b[0m\u001b[0;34m:\u001b[0m\u001b[0;34m\u001b[0m\u001b[0;34m\u001b[0m\u001b[0m\n\u001b[1;32m    691\u001b[0m             \u001b[0;32mif\u001b[0m \u001b[0;32mnot\u001b[0m \u001b[0mself\u001b[0m\u001b[0;34m.\u001b[0m\u001b[0mserver_hostname\u001b[0m\u001b[0;34m:\u001b[0m\u001b[0;34m\u001b[0m\u001b[0;34m\u001b[0m\u001b[0m\n",
      "\u001b[0;31mKeyboardInterrupt\u001b[0m: "
     ]
    }
   ],
   "source": [
    "%%time\n",
    "i=0\n",
    "total=len(SP_SYMBOLS)\n",
    "DATA = pd.DataFrame() \n",
    "for symbol in tqdm(SP_SYMBOLS):\n",
    "    #cookie, crumb = cookie_crumb()\n",
    "    for year in range(first_year,last_year+1):        \n",
    "        df = getdiv(symbol,year,crumb,cookie)\n",
    "        #time.sleep(0.2)\n",
    "        #if len(df) < 1:\n",
    "        #    cookie, crumb = cookie_crumb()\n",
    "        #    df = getdiv(symbol,year,crumb,cookie)\n",
    "        if ((len(df) > 1)):                      \n",
    "            k=0\n",
    "            for k  in range(0,(len(df))):\n",
    "                date = list(df[k:k+1]['Date'])[0]\n",
    "                dividends = list(df[k:k+1]['Dividends'])[0]\n",
    "                try:\n",
    "                    insert_div(base,symbol,date,dividends)\n",
    "                except:\n",
    "                    pass\n",
    "                    #print('Error inserting '+str(symbol)+' '+str(date))\n",
    "            \n",
    " \n",
    "    i=i+1;\n",
    "    #print(str(int((i/total)*100))+'% Copmplete')        "
   ]
  },
  {
   "cell_type": "markdown",
   "metadata": {},
   "source": [
    "Мультипроцессинг"
   ]
  },
  {
   "cell_type": "code",
   "execution_count": 17,
   "metadata": {},
   "outputs": [],
   "source": [
    "#from tqdm.contrib.concurrent import process_map"
   ]
  },
  {
   "cell_type": "code",
   "execution_count": 19,
   "metadata": {},
   "outputs": [],
   "source": [
    "#i=0\n",
    "#total=len(SP_SYMBOLS)\n",
    "#DATA = pd.DataFrame() \n",
    "#for symbol in tqdm(SP_SYMBOLS):\n",
    "#def insert_symbol(symbol):    \n",
    "#    for year in range(first_year,last_year+1):\n",
    "#        if check_div(base,symbol,year) > 0:\n",
    "#            break\n",
    "#        df = getdiv(symbol,year,crumb,cookie)\n",
    "#        time.sleep(0.3)\n",
    "#        if ((len(df) > 1)):                      \n",
    "#            k=0\n",
    "#            for k  in range(0,(len(df))):\n",
    "#                date = list(df[k:k+1]['Date'])[0]\n",
    "#                dividends = list(df[k:k+1]['Dividends'])[0]\n",
    "#                try:\n",
    "#                    insert_div(base,symbol,date,dividends)\n",
    "#                except:\n",
    "#                    #print('Error inserting '+str(symbol)+' '+str(date))\n",
    "#                    pass"
   ]
  },
  {
   "cell_type": "code",
   "execution_count": 54,
   "metadata": {},
   "outputs": [],
   "source": [
    "#random.shuffle(SP_SYMBOLS)"
   ]
  },
  {
   "cell_type": "code",
   "execution_count": 55,
   "metadata": {},
   "outputs": [],
   "source": [
    "#cookie, crumb = cookie_crumb()"
   ]
  },
  {
   "cell_type": "code",
   "execution_count": 20,
   "metadata": {},
   "outputs": [],
   "source": [
    "#%%time\n",
    "#process_map(insert_symbol, SP_SYMBOLS, max_workers=20)"
   ]
  },
  {
   "cell_type": "code",
   "execution_count": null,
   "metadata": {},
   "outputs": [],
   "source": []
  }
 ],
 "metadata": {
  "kernelspec": {
   "display_name": "Python 3",
   "language": "python",
   "name": "python3"
  },
  "language_info": {
   "codemirror_mode": {
    "name": "ipython",
    "version": 3
   },
   "file_extension": ".py",
   "mimetype": "text/x-python",
   "name": "python",
   "nbconvert_exporter": "python",
   "pygments_lexer": "ipython3",
   "version": "3.6.9"
  }
 },
 "nbformat": 4,
 "nbformat_minor": 2
}
