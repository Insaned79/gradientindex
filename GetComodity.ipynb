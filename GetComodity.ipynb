{
 "cells": [
  {
   "cell_type": "code",
   "execution_count": 2,
   "metadata": {},
   "outputs": [
    {
     "name": "stdout",
     "output_type": "stream",
     "text": [
      "Populating the interactive namespace from numpy and matplotlib\n"
     ]
    }
   ],
   "source": [
    "%pylab inline\n",
    "%config IPCompleter.greedy=True\n",
    "import requests # interaction with the web\n",
    "import os  #  file system operations\n",
    "import yaml # human-friendly data format\n",
    "import re  # regular expressions\n",
    "import pandas as pd # pandas... the best time series library out there\n",
    "import datetime as dt # date and time functions\n",
    "import io\n",
    "import time\n",
    "import sqlite3\n",
    "from common_fuctions import cookie_crumb"
   ]
  },
  {
   "cell_type": "markdown",
   "metadata": {},
   "source": [
    "Список бумаг с которыми мы будем работать:"
   ]
  },
  {
   "cell_type": "code",
   "execution_count": 3,
   "metadata": {},
   "outputs": [],
   "source": [
    "SP_SYMBOLS =['CL=F','NG=F','CT=F','KC=F','CT=F']\n",
    "#SP_SYMBOLS =['GC=F','CL=F']"
   ]
  },
  {
   "cell_type": "markdown",
   "metadata": {},
   "source": [
    "Период для работы:"
   ]
  },
  {
   "cell_type": "code",
   "execution_count": 4,
   "metadata": {},
   "outputs": [],
   "source": [
    "first_year = 2000\n",
    "last_year = 2021"
   ]
  },
  {
   "cell_type": "markdown",
   "metadata": {},
   "source": [
    "Файл БД"
   ]
  },
  {
   "cell_type": "code",
   "execution_count": 5,
   "metadata": {},
   "outputs": [],
   "source": [
    "base = 'invest2.db'"
   ]
  },
  {
   "cell_type": "markdown",
   "metadata": {},
   "source": [
    "Функция получения цен за год:"
   ]
  },
  {
   "cell_type": "code",
   "execution_count": 6,
   "metadata": {},
   "outputs": [],
   "source": [
    "def getprices(symbol,year,crumb,cookie):\n",
    "    sDate = (year,1,1)\n",
    "    eDate = (year,12,31)\n",
    "    dt.datetime(*sDate).timestamp() \n",
    "    data = (int(dt.datetime(*sDate).timestamp()),\n",
    "        int(dt.datetime(*eDate).timestamp()), \n",
    "        crumb)\n",
    "    url = \"https://query1.finance.yahoo.com/v7/finance/download/\"+symbol+\"?period1={0}&period2={1}&interval=1d&events=history&crumb={2}\".format(*data)\n",
    "    data = requests.get(url, cookies={'B':cookie}, headers={'User-Agent': 'Mozilla/5.0'})\n",
    "    buf = io.StringIO(data.text) # create a buffer\n",
    "    try:\n",
    "        #df = pd.read_csv(buf,index_col=0) # convert to pandas DataFrame\n",
    "        df = pd.read_csv(buf)\n",
    "    except:\n",
    "        df =pd.DataFrame()\n",
    "    return df"
   ]
  },
  {
   "cell_type": "markdown",
   "metadata": {},
   "source": [
    "Функция вставки истоических значений в базу"
   ]
  },
  {
   "cell_type": "code",
   "execution_count": 7,
   "metadata": {},
   "outputs": [],
   "source": [
    "def insert_history(base,symbol,date,op,high,low,close,volume):\n",
    "    conn = sqlite3.connect(base)\n",
    "    cursor = conn.cursor()\n",
    "    try:\n",
    "        cursor.execute(\"INSERT INTO comodity_history (SYMBOL,DATE,OPEN,HIGH,LOW,CLOSE,VOLUME,UNIQ) VALUES (?,?,?,?,?,?,?,?);\",\n",
    "                      (symbol,date,op,high,low,close,volume,symbol+date,))\n",
    "        conn.commit()\n",
    "    except:\n",
    "        pass\n",
    "    finally:\n",
    "        conn.close()"
   ]
  },
  {
   "cell_type": "markdown",
   "metadata": {},
   "source": [
    "# Основной цикл"
   ]
  },
  {
   "cell_type": "code",
   "execution_count": 8,
   "metadata": {},
   "outputs": [],
   "source": [
    "cookie, crumb = cookie_crumb()"
   ]
  },
  {
   "cell_type": "code",
   "execution_count": 9,
   "metadata": {},
   "outputs": [
    {
     "name": "stdout",
     "output_type": "stream",
     "text": [
      "20% Copmplete\n",
      "40% Copmplete\n",
      "60% Copmplete\n",
      "80% Copmplete\n",
      "100% Copmplete\n",
      "CPU times: user 15.2 s, sys: 847 ms, total: 16 s\n",
      "Wall time: 2min 44s\n"
     ]
    }
   ],
   "source": [
    "%%time\n",
    "i=0\n",
    "total=len(SP_SYMBOLS)\n",
    "DATA = pd.DataFrame() \n",
    "for symbol in SP_SYMBOLS:\n",
    "    for year in range(first_year,last_year+1):\n",
    "        df = getprices(symbol,year,crumb,cookie)\n",
    "        df = df.dropna()\n",
    "        time.sleep(1)\n",
    "        if ((len(df) > 10)):            \n",
    "            k=0\n",
    "            for k  in range(0,(len(df))):\n",
    "                date = list(df[k:k+1]['Date'])[0]\n",
    "                op = list(df[k:k+1]['Open'])[0]\n",
    "                high = list(df[k:k+1]['High'])[0]\n",
    "                low = list(df[k:k+1]['Low'])[0]\n",
    "                close = list(df[k:k+1]['Close'])[0]\n",
    "                volume = list(df[k:k+1]['Volume'])[0]\n",
    "                try:\n",
    "                    insert_history(base,symbol,date,op,high,low,close,volume)\n",
    "                except:\n",
    "                    pass\n",
    "     \n",
    "    i=i+1;\n",
    "    print(str(int((i/total)*100))+'% Copmplete')        "
   ]
  },
  {
   "cell_type": "code",
   "execution_count": null,
   "metadata": {},
   "outputs": [],
   "source": []
  }
 ],
 "metadata": {
  "kernelspec": {
   "display_name": "Python 3",
   "language": "python",
   "name": "python3"
  },
  "language_info": {
   "codemirror_mode": {
    "name": "ipython",
    "version": 3
   },
   "file_extension": ".py",
   "mimetype": "text/x-python",
   "name": "python",
   "nbconvert_exporter": "python",
   "pygments_lexer": "ipython3",
   "version": "3.6.9"
  }
 },
 "nbformat": 4,
 "nbformat_minor": 2
}
