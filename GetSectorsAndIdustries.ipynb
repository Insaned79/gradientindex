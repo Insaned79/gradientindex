{
 "cells": [
  {
   "cell_type": "code",
   "execution_count": 1,
   "metadata": {},
   "outputs": [
    {
     "name": "stdout",
     "output_type": "stream",
     "text": [
      "Populating the interactive namespace from numpy and matplotlib\n"
     ]
    }
   ],
   "source": [
    "%pylab inline\n",
    "%config IPCompleter.greedy=True\n",
    "import requests # interaction with the web\n",
    "import os  #  file system operations\n",
    "import yaml # human-friendly data format\n",
    "import re  # regular expressions\n",
    "import pandas as pd # pandas... the best time series library out there\n",
    "import datetime as dt # date and time functions\n",
    "import io\n",
    "import time\n",
    "import sqlite3\n",
    "import json\n",
    "from tqdm.notebook import tqdm\n",
    "from common_fuctions import cookie_crumb"
   ]
  },
  {
   "cell_type": "markdown",
   "metadata": {},
   "source": [
    "Список бумаг с которыми мы будем работать:"
   ]
  },
  {
   "cell_type": "code",
   "execution_count": 2,
   "metadata": {},
   "outputs": [],
   "source": [
    "SP_SYMBOLS =['AAPL','MSFT','AMZN','FB','JPM','BRK.B','JNJ','GOOG','GOOGL','XOM','BAC','WFC','INTC','T','V','CSCO','CVX','UNH','PFE','HD','PG','VZ','C','ABBV','BA','KO','CMCSA','MA','PM','DWDP','PEP','ORCL','DIS','MRK','NVDA','MMM','AMGN','IBM','NFLX','WMT','MO','MCD','GE','HON','MDT','ABT','TXN','BMY','ADBE','UNP','GILD','BKNG','AVGO','ACN','UTX','GS','SLB','CAT','PYPL','QCOM','CRM','NKE','TMO','USB','SBUX','LMT','COST','MS','PNC','LLY','UPS','TWX','NEE','CELG','LOW','BLK','CVS','AXP','MU','CHTR','SCHW','MDLZ','CB','COP','AMAT','DHR','AMT','CL','GD','FDX','RTN','WBA','NOC','BIIB','BDX','ANTM','AET','EOG','BK','ATVI','CME','AGN','MON','SYK','DUK','ITW','ADP','TJX','DE','CSX','SPGI','AIG','MET','CTSH','OXY','ISRG','SPG','GM','COF','PRU','D','PX','EMR','CCI','ICE','VRTX','SO','BBT','ESRX','MMC','MAR','INTU','F','EBAY','ZTS','NSC','VLO','CI','PSX','HAL','KHC','KMB','STT','FOXA','HPQ','STZ','EA','HUM','BSX','TGT','TRV','DAL','APD','TEL','ILMN','AON','LRCX','JCI','EXC','ETN','ECL','AFL','LYB','WM','PGR','ADI','ALL','STI','SHW','BAX','MPC','PLD','FIS','MCK','LUV','EL','APC','AEP','EQIX','KMI','FISV','WDC','HPE','DXC','ADSK','PPG','ROST','EW','GIS','PSA','HCA','SYY','MTB','PXD','ROP','APH','TROW','DFS','MCO','YUM','RHT','SRE','CCL','SYF','ALXN','WY','REGN','GLW','CMI','ADM','FCX','APTV','MNST','AAL','VFC','FITB','PH','PEG','ROK','FTV','SWK','AMP','OKE','ZBH','PCAR','ED','KEY','DG','NTRS','WMB','PCG','MCHP','RF','A','CAH','MYL','IP','CFG','TSN','IR','DLTR','CXO','AVB','XEL','COL','WLTW','EQR','DLR','RCL','DPS','KR','NUE','ORLY','PAYX','SWKS','SBAC','NEM','EIX','WELL','CERN','HIG','ALGN','BXP','WEC','XLNX','HRS','CBS','KLAC','PPL','UAL','GPN','MGM','BBY','AME','DTE','VTR','IDXX','AZO','INFO','ES','MSI','LH','NTAP','CNC','HBAN','CMA','STX','K','OMC','DVN','WRK','CTL','LNC','SYMC','WAT','CLX','ABC','PFG','INCY','HLT','FAST','LEN','VRSK','FOX','LLL','EMN','VMC','MTD','RSG','ETFC','CAG','TXT','MHK','URI','DOV','ESS','IQV','DHI','CTAS','TSS','SJM','TPR','XL','WYNN','TAP','EFX','NBL','FE','BLL','O','DGX','GWW','AWK','TDG','HSY','ANSS','CBG','ANDV','NOV','L','XYL','IVZ','RMD','BF.B','HST','NWL','ETR','CTXS','CBOE','GPC','MAS','EXPE','GGP','APA','XRAY','MLM','FTI','SNPS','MKC','AEE','CHD','BEN','EQT','CHRW','BHGE','HES','AJG','AKAM','RJF','MRO','WYN','COG','CMS','ARE','ULTA','WHR','LKQ','HII','DRI','VAR','VNO','KMX','KSU','EXPD','PNR','CNP','VIAB','PVH','UNM','PRGO','COO','IT','ALB','CA','KSS','PKG','ZION','CINF','NCLH','ADS','CDNS','NLSN','IFF','AMG','FMC','UHS','DVA','HOLX','EXR','HSIC','VRSN','RE','JBHT','HCP','QRVO','ARNC','LB','TIF','AVY','HAS','BWA','MAA','SLG','JNPR','NDAQ','IPGP','AOS','MOS','TMK','FFIV','WU','FBHS','KORS','AMD','UDR','CF','IPG','DISH','NRG','M','DRE','COTY','HRL','LNT','IRM','SNA','XEC','REG','AAP','FRT','CPB','ALK','PNW','PKI','TSCO','PHM','CMG','ALLE','SEE','LUK','FLR','HOG','NI','RHI','HBI','GPS','JEC','GT','DISCK','GRMN','FLIR','AES','PBCT','HP','XRX','CSRA','AYI','MAC','LEG','AIV','NWSA','RL','KIM','JWN','FLS','HRB','SCG','FL','SRCL','PWR','BHF','EVHC','AIZ','MAT','TRIP','NFX','DISCA','NAVI','RRC','UAA','SIG','CHK','UAA','PDCO','NWS']\n",
    "OLD_SP = ['ES','HIG','TROW','NI','EXC','SO','MET','CVX','STT','TXN','TMO','TSN','UNP','UTX','EBAY','MCO','PG','WY','PPG','PEP','IP','K','KMB','KR','LEG','L','MKC','SPGI','CVS','COP','ETR','MMM','MSI','XEL','NTRS','PFE','WHR','XRX','MAR','MO','PPL','PNW','PEG','HOG','M','QCOM','VNO','WM','EIX','SBUX','MS','KSS','FCX','DHI','MCK','DTE','DRI','WAT','ED','RTN','LHX','JNPR','MRK','DHR','DE','IBM','KLAC','SRE','FE','ROK','NSC','D','SEE','PAYX','VLO','HBAN','TPR','VIAB','BEN','F','MTB','USB','FITB','XOM','OMC','GLW','CL','KO','CAT','CPB','HUM','BMY','BA','WRK','AEP','DD','BHGE','GD','GE','ETN','HSY','HAL','WU','ARNC','HON','ABT','SHW','CMI','SLB','EMR','CSX','CLX','GIS','NEM','MCD','LLY','BAX','BDX','JNJ','GPC','HPQ','WMB','JPM','IFF','DIS','TAP','DUK','CI','NEE','AXP','WFC','LNC','BAC','INTC','TGT','TXT','VFC','WBA','AIG','PCAR','FDX','ADP','GWW','MAS','ADM','WMT','SWK','SNA','BF.B','AAPL','OXY','CAG','LB','T','VZ','LOW','PHM','HES','LMT','HAS','BLL','WCG','NUE','APD','PKI','NOC','CNP','TJX','DOV','PH','ITW','GPS','JWN','MDT','HRB','SYY','MMC','AVY','HD','PNC','STI','C','NKE','ECL','NWL','GL','ORCL','ADSK','MRO','AEE','AMGN','LIN','IPG','COST','CSCO','EMN','KEY','UNM','MSFT','UNH','LUV','CBS','MU','BSX','AMAT','BK','ALL','CMA','AON','AZO','ADBE','CAH','SCHW','EFX','APA','PGR','YUM','BBT','CINF','COF','RF','AES','CCL','CTL','AGN','CMS','AFL','NTAP','BBY','VMC','ADI','XLNX','CTXS','A','TIF','DVN','EOG','OI','AYE','GRA','CCK','SBL','RHI','BS','ABK','INTU','SYK','CTAS','FISV','ZION','ZBH','ABC','NVDA','EQR','SPG','UPS','EA','PFG','GS','PRU','ANTM','TRV','DGX','AIV','SYMC','PLD','QTRN','ESRX','BIIB','ETFC','MYL','GILD','LH','NOV','GLK','STZ','PSA','AMP','LEN','AMZN','EL','VRSN','BXP','GOOG','KIM','CME','CELG','FIS','CBRE','CTSH','AVB','SBL','RL','VAR','CHRW','HST','KFT','TSG','AIZ','DFS','AKAM','KSE','LUK','JEF','MCHP','ICE','EXPE','NBL','EXPD','AV','JEC','JEC','AMT','GME','DJ','TRB','RRC','TSS','PM','HCP','ISRG','ABK','LO','COG','MA','DVA','IVZ','CF','CRM','PXD','APH','FLS','NDAQ','WEC','SJM','PBCT','WYNN','XRAY','RSG','FLIR','IRM','WELL','VTR','HRL','JNY','ACAS','HRL','VTR','ORLY','FTI','WDC','PWR','FMC','FAST','ARG','CBE','PCLN','SGP','BKNG','ROST','V','ROP','NRG','BRK.B','HP','RX','HP','DISCA','OKE','BJS','CERN','CERN','KMX','XTO','QEP','STR','CB','MIL','CB','SII','TYC','JCI','IR','ODP','NYT','NFX','EK','CVC','KG','FFIV','NFLX','NFLX','FFIV','JOY','AYE','COV','MFE','Q','EW','BLK','EW','GENZ','BLK','CMG','NOVL','CMG','ANR','MEE','RSH','MPC','MPC','ACN','MI','ACN','NSM','MOS','MOS','TEL','CEPH','TEL','XYL','ITT','XYL','JNS','CBE','GAS','GAS','WFR','BWA','MWW','PRGO','DLTR','AKS','PRGO','BWA','DLTR','TLAB','TRIP','TRIP','WPX','CPWR','CEG','CCI','CCI','FOSL','MHS','PSX','SVU','PSX','EP','KMI','MMI','ALXN','ALXN','KMI','LRCX','NVLS','MNST','SLE','MNST','LRCX','PGN','STX','ESV','GR','LYB','SHLD','PNR','DV','ADT','LXK','KRFT','ANR','MDLZ','SUN','PETM','CBE','DG','RRD','GRMN','GRMN','DLPH','TIE','APTV','ABBV','FII','BIG','PVH','REGN','PCS','REGN','CVH','MAC','MAC','DF','KSU','KSU','GM','HNZ','FHN','ZTS','APOL','FOXA','FOXA','S','NLSN','NLSN','NWSA','DAL','BMC','DAL','VRTX','AME','SAI','AMD','AME','VRTX','DELL','RIG','NYX','KORS','CPRI','JCP','ALLE','GGP','MOLX','ANF','JDSU','TER','MHK','FB','ADS','TSCO','LIFE','WPX','GMCR','ESS','CLF','GOOGL','BEAM','SLM','UA','NAVI','LSI','AVGO','IGT','XEC','XEC','AMG','FRX','MLM','X','DISCK','DISCK','MNK','RDC','URI','UHS','GHC','BTU','JBL','LVLT','RCL','BMS','COV','ENDP','SWY','HCA','PETM','SWKS','HSIC','HSIC','CFN','HBI','SLG','EQIX','SLG','DNR','NBR','AVP','EQIX','AGN','HBI','AAL','WIN','O','QRVO','LO','BXLT','QEP','JBHT','TEG','CPGX','ATI','KRFT','KHC','AAP','FDO','AAP','NE','PYPL','DTV','SIG','PLL','ATVI','ATVI','UAL','HSP','UAL','FOX','NWS','CMCSK','CMCSA','VRSK','JOY','VRSK','HCBK','HPE','SYF','GNW','ILMN','SIAL','CSRA','CSC','CMCSK','ALTR','CHD','WLTW','FOSL','CB','EXR','CFG','CFG','BRCM','PCP','FRT','CXO','PCL','CNX','AWK','UDR','GMCR','UAA','HOLX','POM','CNC','ESV','CAM','FL','ULTA','THC','GME','GPN','ADT','AYI','ALK','SNDK','TWC','DLR','LKQ','ARG','CCE','AJG','TDG','BXLT','UA-C','FBHS','CVC','ALB','FTV','LNT','GAS','TE','CPGX','FTV','MTD','JCI','CHTR','EMC','COO','HOT','COO','COTY','DO','COTY','MAA','EVHC','LM','OI','IDXX','STJ','SE','INCY','PBI','CBOE','ENDP','REG','DISH','LLTC','SNPS','HAR','ARE','URBN','AMD','RJF','FSLR','FTR','SWN','DXC','IT','DNB','TGNA','INFO','ANSS','R','TDC','YHOO','RE','ALGN','HLT','MJN','MNK','MUR','BBBY','RIG','RAI','PKG','RMD','DRE','MGM','AOS','BHF','AN','IQV','WFM','Q','DD','SBAC','CDNS','SPLS','NCLH','LVLT','HII','BCR','IPGP','SNI','TTWO','PDCO','SIG','SIVB','NKTR','CHK','CSRA','MSCI','ABMD','WYN','NAVI','EVRG','MON','TWTR','RRC','AYI','HFC','BR','FLT','TWX','CPRT','DPS','GGP','ANET','XL','WCG','ROL','ANDV','FTNT','EVHC','KEYS','CA','EQT','JKHY','MXIM','LW','FANG','COL','AET','SRCL','CE','ESRX','SCG','FRC','PCG','TFX','NFX','ATO','WAB','GT','DOW','BHF','DOW','CTVA','FLR','MAT','AMCR','BMS','LLL','MKTX','TMUS','RHT','LDOS','APC','IEX','FL']\n",
    "SP_SYMBOLS = list(set(OLD_SP +SP_SYMBOLS))\n",
    "#SP_SYMBOLS =['AAPL','MSFT']"
   ]
  },
  {
   "cell_type": "markdown",
   "metadata": {},
   "source": [
    "Файл БД"
   ]
  },
  {
   "cell_type": "code",
   "execution_count": 3,
   "metadata": {},
   "outputs": [],
   "source": [
    "base = 'invest.db'"
   ]
  },
  {
   "cell_type": "code",
   "execution_count": 4,
   "metadata": {},
   "outputs": [],
   "source": [
    "def fixtext(badtext):\n",
    "    try:\n",
    "        encoded = badtext.encode('cp1252') \n",
    "        goodtext = encoded.decode('utf-8')\n",
    "    except:\n",
    "        return badtext\n",
    "    return goodtext"
   ]
  },
  {
   "cell_type": "markdown",
   "metadata": {},
   "source": [
    "Функция получения сектора и индустрии:"
   ]
  },
  {
   "cell_type": "code",
   "execution_count": 5,
   "metadata": {},
   "outputs": [],
   "source": [
    "def getsec(symbol,cookie):\n",
    "    url = \"https://query1.finance.yahoo.com/v10/finance/quoteSummary/\"+symbol+\"?modules=assetProfile\"\n",
    "    data = requests.get(url, cookies={'B':cookie}, headers={'User-Agent': 'Mozilla/5.0'})\n",
    "    json_data = json.loads(data.text)\n",
    "    try:\n",
    "        industry = json_data['quoteSummary']['result'][0]['assetProfile']['industry']\n",
    "        sector = json_data['quoteSummary']['result'][0]['assetProfile']['sector']\n",
    "    except:\n",
    "        industry = 'no'\n",
    "        sector = 'no'\n",
    "    return fixtext(sector),fixtext(industry)"
   ]
  },
  {
   "cell_type": "markdown",
   "metadata": {},
   "source": [
    "Функция вставки сектора и индустрии в базу"
   ]
  },
  {
   "cell_type": "code",
   "execution_count": 6,
   "metadata": {},
   "outputs": [],
   "source": [
    "def insert_sec(base,symbol,sector,industry):\n",
    "    conn = sqlite3.connect(base)\n",
    "    cursor = conn.cursor()\n",
    "    try:\n",
    "        cursor.execute(\"INSERT INTO sectors (SYMBOL,SECTOR,INDUSTRY) VALUES (?,?,?);\",\n",
    "                  (symbol,sector,industry,))\n",
    "        conn.commit()\n",
    "    except:\n",
    "        pass\n",
    "    finally:\n",
    "        conn.close()"
   ]
  },
  {
   "cell_type": "markdown",
   "metadata": {},
   "source": [
    "# Основной цикл"
   ]
  },
  {
   "cell_type": "code",
   "execution_count": 7,
   "metadata": {},
   "outputs": [],
   "source": [
    "cookie, crumb = cookie_crumb()"
   ]
  },
  {
   "cell_type": "code",
   "execution_count": 10,
   "metadata": {},
   "outputs": [
    {
     "data": {
      "application/vnd.jupyter.widget-view+json": {
       "model_id": "97a88d71b87c4c0188e1f17c11df699f",
       "version_major": 2,
       "version_minor": 0
      },
      "text/plain": [
       "  0%|          | 0/718 [00:00<?, ?it/s]"
      ]
     },
     "metadata": {},
     "output_type": "display_data"
    },
    {
     "ename": "KeyboardInterrupt",
     "evalue": "",
     "output_type": "error",
     "traceback": [
      "\u001b[0;31m---------------------------------------------------------------------------\u001b[0m",
      "\u001b[0;31mKeyboardInterrupt\u001b[0m                         Traceback (most recent call last)",
      "\u001b[0;32m<timed exec>\u001b[0m in \u001b[0;36m<module>\u001b[0;34m\u001b[0m\n",
      "\u001b[0;31mKeyboardInterrupt\u001b[0m: "
     ]
    }
   ],
   "source": [
    "%%time\n",
    "i=0\n",
    "total=len(SP_SYMBOLS)\n",
    "for symbol in tqdm(SP_SYMBOLS):\n",
    "    sector,industry=getsec(symbol,cookie)\n",
    "    time.sleep(1)\n",
    "    insert_sec(base,symbol,sector,industry)\n",
    "    i=i+1;\n",
    "    #print(str(int((i/total)*100))+'% Copmplete')        "
   ]
  },
  {
   "cell_type": "code",
   "execution_count": null,
   "metadata": {},
   "outputs": [],
   "source": []
  }
 ],
 "metadata": {
  "kernelspec": {
   "display_name": "Python 3",
   "language": "python",
   "name": "python3"
  },
  "language_info": {
   "codemirror_mode": {
    "name": "ipython",
    "version": 3
   },
   "file_extension": ".py",
   "mimetype": "text/x-python",
   "name": "python",
   "nbconvert_exporter": "python",
   "pygments_lexer": "ipython3",
   "version": "3.6.9"
  }
 },
 "nbformat": 4,
 "nbformat_minor": 2
}
